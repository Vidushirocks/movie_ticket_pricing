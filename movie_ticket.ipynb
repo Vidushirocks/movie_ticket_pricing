{
  "cells": [
    {
      "cell_type": "markdown",
      "source": [
        "# **Title of Project**"
      ],
      "metadata": {
        "id": "6Zlvxs-bry28"
      }
    },
    {
      "cell_type": "markdown",
      "source": [
        "MOVIE TICKET PRICING"
      ],
      "metadata": {
        "id": "XqzBuDCYr1wl"
      }
    },
    {
      "cell_type": "markdown",
      "source": [
        "## **Objective**"
      ],
      "metadata": {
        "id": "cax9LwoKpIIM"
      }
    },
    {
      "cell_type": "markdown",
      "source": [
        "To Predict The Ticket Price"
      ],
      "metadata": {
        "id": "B5sunRYKpLU5"
      }
    },
    {
      "cell_type": "markdown",
      "source": [
        "## **Data Source**"
      ],
      "metadata": {
        "id": "EbgxbR1Zo4XA"
      }
    },
    {
      "cell_type": "markdown",
      "source": [
        "KAGGLE"
      ],
      "metadata": {
        "id": "Fm-cCaBqo7HD"
      }
    },
    {
      "cell_type": "markdown",
      "source": [
        "## **Import Library**"
      ],
      "metadata": {
        "id": "0Jq3cigna1ot"
      }
    },
    {
      "cell_type": "code",
      "execution_count": 1,
      "metadata": {
        "id": "ienn__XQ-C__"
      },
      "outputs": [],
      "source": [
        "%matplotlib inline\n",
        "import pandas as pd\n",
        "import numpy as np\n",
        "import re\n",
        "import matplotlib \n",
        "import matplotlib.pyplot as plt\n",
        "import seaborn as sns"
      ]
    },
    {
      "cell_type": "markdown",
      "source": [
        "## **Import Data**"
      ],
      "metadata": {
        "id": "SXJOMqaYa-vd"
      }
    },
    {
      "cell_type": "code",
      "execution_count": 2,
      "metadata": {
        "id": "cR0ipRU--Lna"
      },
      "outputs": [],
      "source": [
        "df=pd.read_csv('https://raw.githubusercontent.com/Vidushirocks/Movie_Ticket_Pricing/main/cinemaTicket_Ref.csv')"
      ]
    },
    {
      "cell_type": "markdown",
      "source": [
        "## **Describe Data**"
      ],
      "metadata": {
        "id": "NjxcVQJ4bEw6"
      }
    },
    {
      "cell_type": "code",
      "execution_count": 3,
      "metadata": {
        "id": "tC_VIE8S-QAJ",
        "colab": {
          "base_uri": "https://localhost:8080/",
          "height": 250
        },
        "outputId": "a6e27dc9-9901-4494-947f-a510b5b96eea"
      },
      "outputs": [
        {
          "output_type": "execute_result",
          "data": {
            "text/html": [
              "\n",
              "  <div id=\"df-9011dc54-76bd-43fe-9c76-a38b1415cdad\">\n",
              "    <div class=\"colab-df-container\">\n",
              "      <div>\n",
              "<style scoped>\n",
              "    .dataframe tbody tr th:only-of-type {\n",
              "        vertical-align: middle;\n",
              "    }\n",
              "\n",
              "    .dataframe tbody tr th {\n",
              "        vertical-align: top;\n",
              "    }\n",
              "\n",
              "    .dataframe thead th {\n",
              "        text-align: right;\n",
              "    }\n",
              "</style>\n",
              "<table border=\"1\" class=\"dataframe\">\n",
              "  <thead>\n",
              "    <tr style=\"text-align: right;\">\n",
              "      <th></th>\n",
              "      <th>film_code</th>\n",
              "      <th>cinema_code</th>\n",
              "      <th>total_sales</th>\n",
              "      <th>tickets_sold</th>\n",
              "      <th>tickets_out</th>\n",
              "      <th>show_time</th>\n",
              "      <th>occu_perc</th>\n",
              "      <th>ticket_price</th>\n",
              "      <th>ticket_use</th>\n",
              "      <th>capacity</th>\n",
              "      <th>date</th>\n",
              "      <th>month</th>\n",
              "      <th>quarter</th>\n",
              "      <th>day</th>\n",
              "    </tr>\n",
              "  </thead>\n",
              "  <tbody>\n",
              "    <tr>\n",
              "      <th>0</th>\n",
              "      <td>1492</td>\n",
              "      <td>304</td>\n",
              "      <td>3900000</td>\n",
              "      <td>26</td>\n",
              "      <td>0</td>\n",
              "      <td>4</td>\n",
              "      <td>4.26</td>\n",
              "      <td>150000.0</td>\n",
              "      <td>26</td>\n",
              "      <td>610.328639</td>\n",
              "      <td>05-05-2018</td>\n",
              "      <td>5</td>\n",
              "      <td>2</td>\n",
              "      <td>5</td>\n",
              "    </tr>\n",
              "    <tr>\n",
              "      <th>1</th>\n",
              "      <td>1492</td>\n",
              "      <td>352</td>\n",
              "      <td>3360000</td>\n",
              "      <td>42</td>\n",
              "      <td>0</td>\n",
              "      <td>5</td>\n",
              "      <td>8.08</td>\n",
              "      <td>80000.0</td>\n",
              "      <td>42</td>\n",
              "      <td>519.801980</td>\n",
              "      <td>05-05-2018</td>\n",
              "      <td>5</td>\n",
              "      <td>2</td>\n",
              "      <td>5</td>\n",
              "    </tr>\n",
              "    <tr>\n",
              "      <th>2</th>\n",
              "      <td>1492</td>\n",
              "      <td>489</td>\n",
              "      <td>2560000</td>\n",
              "      <td>32</td>\n",
              "      <td>0</td>\n",
              "      <td>4</td>\n",
              "      <td>20.00</td>\n",
              "      <td>80000.0</td>\n",
              "      <td>32</td>\n",
              "      <td>160.000000</td>\n",
              "      <td>05-05-2018</td>\n",
              "      <td>5</td>\n",
              "      <td>2</td>\n",
              "      <td>5</td>\n",
              "    </tr>\n",
              "    <tr>\n",
              "      <th>3</th>\n",
              "      <td>1492</td>\n",
              "      <td>429</td>\n",
              "      <td>1200000</td>\n",
              "      <td>12</td>\n",
              "      <td>0</td>\n",
              "      <td>1</td>\n",
              "      <td>11.01</td>\n",
              "      <td>100000.0</td>\n",
              "      <td>12</td>\n",
              "      <td>108.991826</td>\n",
              "      <td>05-05-2018</td>\n",
              "      <td>5</td>\n",
              "      <td>2</td>\n",
              "      <td>5</td>\n",
              "    </tr>\n",
              "    <tr>\n",
              "      <th>4</th>\n",
              "      <td>1492</td>\n",
              "      <td>524</td>\n",
              "      <td>1200000</td>\n",
              "      <td>15</td>\n",
              "      <td>0</td>\n",
              "      <td>3</td>\n",
              "      <td>16.67</td>\n",
              "      <td>80000.0</td>\n",
              "      <td>15</td>\n",
              "      <td>89.982004</td>\n",
              "      <td>05-05-2018</td>\n",
              "      <td>5</td>\n",
              "      <td>2</td>\n",
              "      <td>5</td>\n",
              "    </tr>\n",
              "  </tbody>\n",
              "</table>\n",
              "</div>\n",
              "      <button class=\"colab-df-convert\" onclick=\"convertToInteractive('df-9011dc54-76bd-43fe-9c76-a38b1415cdad')\"\n",
              "              title=\"Convert this dataframe to an interactive table.\"\n",
              "              style=\"display:none;\">\n",
              "        \n",
              "  <svg xmlns=\"http://www.w3.org/2000/svg\" height=\"24px\"viewBox=\"0 0 24 24\"\n",
              "       width=\"24px\">\n",
              "    <path d=\"M0 0h24v24H0V0z\" fill=\"none\"/>\n",
              "    <path d=\"M18.56 5.44l.94 2.06.94-2.06 2.06-.94-2.06-.94-.94-2.06-.94 2.06-2.06.94zm-11 1L8.5 8.5l.94-2.06 2.06-.94-2.06-.94L8.5 2.5l-.94 2.06-2.06.94zm10 10l.94 2.06.94-2.06 2.06-.94-2.06-.94-.94-2.06-.94 2.06-2.06.94z\"/><path d=\"M17.41 7.96l-1.37-1.37c-.4-.4-.92-.59-1.43-.59-.52 0-1.04.2-1.43.59L10.3 9.45l-7.72 7.72c-.78.78-.78 2.05 0 2.83L4 21.41c.39.39.9.59 1.41.59.51 0 1.02-.2 1.41-.59l7.78-7.78 2.81-2.81c.8-.78.8-2.07 0-2.86zM5.41 20L4 18.59l7.72-7.72 1.47 1.35L5.41 20z\"/>\n",
              "  </svg>\n",
              "      </button>\n",
              "      \n",
              "  <style>\n",
              "    .colab-df-container {\n",
              "      display:flex;\n",
              "      flex-wrap:wrap;\n",
              "      gap: 12px;\n",
              "    }\n",
              "\n",
              "    .colab-df-convert {\n",
              "      background-color: #E8F0FE;\n",
              "      border: none;\n",
              "      border-radius: 50%;\n",
              "      cursor: pointer;\n",
              "      display: none;\n",
              "      fill: #1967D2;\n",
              "      height: 32px;\n",
              "      padding: 0 0 0 0;\n",
              "      width: 32px;\n",
              "    }\n",
              "\n",
              "    .colab-df-convert:hover {\n",
              "      background-color: #E2EBFA;\n",
              "      box-shadow: 0px 1px 2px rgba(60, 64, 67, 0.3), 0px 1px 3px 1px rgba(60, 64, 67, 0.15);\n",
              "      fill: #174EA6;\n",
              "    }\n",
              "\n",
              "    [theme=dark] .colab-df-convert {\n",
              "      background-color: #3B4455;\n",
              "      fill: #D2E3FC;\n",
              "    }\n",
              "\n",
              "    [theme=dark] .colab-df-convert:hover {\n",
              "      background-color: #434B5C;\n",
              "      box-shadow: 0px 1px 3px 1px rgba(0, 0, 0, 0.15);\n",
              "      filter: drop-shadow(0px 1px 2px rgba(0, 0, 0, 0.3));\n",
              "      fill: #FFFFFF;\n",
              "    }\n",
              "  </style>\n",
              "\n",
              "      <script>\n",
              "        const buttonEl =\n",
              "          document.querySelector('#df-9011dc54-76bd-43fe-9c76-a38b1415cdad button.colab-df-convert');\n",
              "        buttonEl.style.display =\n",
              "          google.colab.kernel.accessAllowed ? 'block' : 'none';\n",
              "\n",
              "        async function convertToInteractive(key) {\n",
              "          const element = document.querySelector('#df-9011dc54-76bd-43fe-9c76-a38b1415cdad');\n",
              "          const dataTable =\n",
              "            await google.colab.kernel.invokeFunction('convertToInteractive',\n",
              "                                                     [key], {});\n",
              "          if (!dataTable) return;\n",
              "\n",
              "          const docLinkHtml = 'Like what you see? Visit the ' +\n",
              "            '<a target=\"_blank\" href=https://colab.research.google.com/notebooks/data_table.ipynb>data table notebook</a>'\n",
              "            + ' to learn more about interactive tables.';\n",
              "          element.innerHTML = '';\n",
              "          dataTable['output_type'] = 'display_data';\n",
              "          await google.colab.output.renderOutput(dataTable, element);\n",
              "          const docLink = document.createElement('div');\n",
              "          docLink.innerHTML = docLinkHtml;\n",
              "          element.appendChild(docLink);\n",
              "        }\n",
              "      </script>\n",
              "    </div>\n",
              "  </div>\n",
              "  "
            ],
            "text/plain": [
              "   film_code  cinema_code  total_sales  ...  month  quarter  day\n",
              "0       1492          304      3900000  ...      5        2    5\n",
              "1       1492          352      3360000  ...      5        2    5\n",
              "2       1492          489      2560000  ...      5        2    5\n",
              "3       1492          429      1200000  ...      5        2    5\n",
              "4       1492          524      1200000  ...      5        2    5\n",
              "\n",
              "[5 rows x 14 columns]"
            ]
          },
          "metadata": {},
          "execution_count": 3
        }
      ],
      "source": [
        "df.head()"
      ]
    },
    {
      "cell_type": "code",
      "execution_count": 4,
      "metadata": {
        "id": "sEpLxPyAAbFX",
        "colab": {
          "base_uri": "https://localhost:8080/"
        },
        "outputId": "424fda2e-1ed1-4978-d9ce-b9e2ef3fba03"
      },
      "outputs": [
        {
          "output_type": "stream",
          "name": "stdout",
          "text": [
            "<class 'pandas.core.frame.DataFrame'>\n",
            "RangeIndex: 142524 entries, 0 to 142523\n",
            "Data columns (total 14 columns):\n",
            " #   Column        Non-Null Count   Dtype  \n",
            "---  ------        --------------   -----  \n",
            " 0   film_code     142524 non-null  int64  \n",
            " 1   cinema_code   142524 non-null  int64  \n",
            " 2   total_sales   142524 non-null  int64  \n",
            " 3   tickets_sold  142524 non-null  int64  \n",
            " 4   tickets_out   142524 non-null  int64  \n",
            " 5   show_time     142524 non-null  int64  \n",
            " 6   occu_perc     142399 non-null  float64\n",
            " 7   ticket_price  142524 non-null  float64\n",
            " 8   ticket_use    142524 non-null  int64  \n",
            " 9   capacity      142399 non-null  float64\n",
            " 10  date          142524 non-null  object \n",
            " 11  month         142524 non-null  int64  \n",
            " 12  quarter       142524 non-null  int64  \n",
            " 13  day           142524 non-null  int64  \n",
            "dtypes: float64(3), int64(10), object(1)\n",
            "memory usage: 15.2+ MB\n"
          ]
        }
      ],
      "source": [
        "df.info()"
      ]
    },
    {
      "cell_type": "code",
      "execution_count": 5,
      "metadata": {
        "id": "krFouxUcAgID",
        "colab": {
          "base_uri": "https://localhost:8080/",
          "height": 364
        },
        "outputId": "921fbb1c-2a40-40f0-df6f-8efd6096eb0a"
      },
      "outputs": [
        {
          "output_type": "execute_result",
          "data": {
            "text/html": [
              "\n",
              "  <div id=\"df-f92c75cc-d0d1-4826-9be5-7f0972e3da80\">\n",
              "    <div class=\"colab-df-container\">\n",
              "      <div>\n",
              "<style scoped>\n",
              "    .dataframe tbody tr th:only-of-type {\n",
              "        vertical-align: middle;\n",
              "    }\n",
              "\n",
              "    .dataframe tbody tr th {\n",
              "        vertical-align: top;\n",
              "    }\n",
              "\n",
              "    .dataframe thead th {\n",
              "        text-align: right;\n",
              "    }\n",
              "</style>\n",
              "<table border=\"1\" class=\"dataframe\">\n",
              "  <thead>\n",
              "    <tr style=\"text-align: right;\">\n",
              "      <th></th>\n",
              "      <th>film_code</th>\n",
              "      <th>cinema_code</th>\n",
              "      <th>total_sales</th>\n",
              "      <th>tickets_sold</th>\n",
              "      <th>tickets_out</th>\n",
              "      <th>show_time</th>\n",
              "      <th>occu_perc</th>\n",
              "      <th>ticket_price</th>\n",
              "      <th>ticket_use</th>\n",
              "      <th>capacity</th>\n",
              "      <th>month</th>\n",
              "      <th>quarter</th>\n",
              "      <th>day</th>\n",
              "    </tr>\n",
              "  </thead>\n",
              "  <tbody>\n",
              "    <tr>\n",
              "      <th>count</th>\n",
              "      <td>142524.000000</td>\n",
              "      <td>142524.000000</td>\n",
              "      <td>1.425240e+05</td>\n",
              "      <td>142524.000000</td>\n",
              "      <td>142524.000000</td>\n",
              "      <td>142524.000000</td>\n",
              "      <td>142399.000000</td>\n",
              "      <td>142524.000000</td>\n",
              "      <td>142524.000000</td>\n",
              "      <td>142399.000000</td>\n",
              "      <td>142524.000000</td>\n",
              "      <td>142524.000000</td>\n",
              "      <td>142524.000000</td>\n",
              "    </tr>\n",
              "    <tr>\n",
              "      <th>mean</th>\n",
              "      <td>1518.985111</td>\n",
              "      <td>320.378427</td>\n",
              "      <td>1.234728e+07</td>\n",
              "      <td>140.137570</td>\n",
              "      <td>0.237413</td>\n",
              "      <td>3.932103</td>\n",
              "      <td>19.965986</td>\n",
              "      <td>81234.599886</td>\n",
              "      <td>139.900157</td>\n",
              "      <td>854.723605</td>\n",
              "      <td>6.776852</td>\n",
              "      <td>2.634721</td>\n",
              "      <td>16.112585</td>\n",
              "    </tr>\n",
              "    <tr>\n",
              "      <th>std</th>\n",
              "      <td>36.184450</td>\n",
              "      <td>159.701229</td>\n",
              "      <td>3.065486e+07</td>\n",
              "      <td>279.758733</td>\n",
              "      <td>2.923206</td>\n",
              "      <td>3.056276</td>\n",
              "      <td>22.653445</td>\n",
              "      <td>33236.599278</td>\n",
              "      <td>279.564935</td>\n",
              "      <td>953.118103</td>\n",
              "      <td>2.195843</td>\n",
              "      <td>0.809692</td>\n",
              "      <td>8.949471</td>\n",
              "    </tr>\n",
              "    <tr>\n",
              "      <th>min</th>\n",
              "      <td>1471.000000</td>\n",
              "      <td>32.000000</td>\n",
              "      <td>2.000000e+04</td>\n",
              "      <td>1.000000</td>\n",
              "      <td>0.000000</td>\n",
              "      <td>1.000000</td>\n",
              "      <td>0.000000</td>\n",
              "      <td>483.870968</td>\n",
              "      <td>-219.000000</td>\n",
              "      <td>-2.000000</td>\n",
              "      <td>2.000000</td>\n",
              "      <td>1.000000</td>\n",
              "      <td>1.000000</td>\n",
              "    </tr>\n",
              "    <tr>\n",
              "      <th>25%</th>\n",
              "      <td>1485.000000</td>\n",
              "      <td>181.000000</td>\n",
              "      <td>1.260000e+06</td>\n",
              "      <td>18.000000</td>\n",
              "      <td>0.000000</td>\n",
              "      <td>2.000000</td>\n",
              "      <td>3.750000</td>\n",
              "      <td>60000.000000</td>\n",
              "      <td>18.000000</td>\n",
              "      <td>276.994486</td>\n",
              "      <td>5.000000</td>\n",
              "      <td>2.000000</td>\n",
              "      <td>8.000000</td>\n",
              "    </tr>\n",
              "    <tr>\n",
              "      <th>50%</th>\n",
              "      <td>1498.000000</td>\n",
              "      <td>324.000000</td>\n",
              "      <td>3.720000e+06</td>\n",
              "      <td>50.000000</td>\n",
              "      <td>0.000000</td>\n",
              "      <td>3.000000</td>\n",
              "      <td>10.350000</td>\n",
              "      <td>79454.235180</td>\n",
              "      <td>50.000000</td>\n",
              "      <td>525.714286</td>\n",
              "      <td>7.000000</td>\n",
              "      <td>3.000000</td>\n",
              "      <td>16.000000</td>\n",
              "    </tr>\n",
              "    <tr>\n",
              "      <th>75%</th>\n",
              "      <td>1556.000000</td>\n",
              "      <td>474.000000</td>\n",
              "      <td>1.110000e+07</td>\n",
              "      <td>143.000000</td>\n",
              "      <td>0.000000</td>\n",
              "      <td>5.000000</td>\n",
              "      <td>28.210000</td>\n",
              "      <td>100000.000000</td>\n",
              "      <td>143.000000</td>\n",
              "      <td>1038.961039</td>\n",
              "      <td>9.000000</td>\n",
              "      <td>3.000000</td>\n",
              "      <td>24.000000</td>\n",
              "    </tr>\n",
              "    <tr>\n",
              "      <th>max</th>\n",
              "      <td>1589.000000</td>\n",
              "      <td>637.000000</td>\n",
              "      <td>1.262820e+09</td>\n",
              "      <td>8499.000000</td>\n",
              "      <td>311.000000</td>\n",
              "      <td>60.000000</td>\n",
              "      <td>147.500000</td>\n",
              "      <td>700000.000000</td>\n",
              "      <td>8499.000000</td>\n",
              "      <td>9692.097160</td>\n",
              "      <td>11.000000</td>\n",
              "      <td>4.000000</td>\n",
              "      <td>31.000000</td>\n",
              "    </tr>\n",
              "  </tbody>\n",
              "</table>\n",
              "</div>\n",
              "      <button class=\"colab-df-convert\" onclick=\"convertToInteractive('df-f92c75cc-d0d1-4826-9be5-7f0972e3da80')\"\n",
              "              title=\"Convert this dataframe to an interactive table.\"\n",
              "              style=\"display:none;\">\n",
              "        \n",
              "  <svg xmlns=\"http://www.w3.org/2000/svg\" height=\"24px\"viewBox=\"0 0 24 24\"\n",
              "       width=\"24px\">\n",
              "    <path d=\"M0 0h24v24H0V0z\" fill=\"none\"/>\n",
              "    <path d=\"M18.56 5.44l.94 2.06.94-2.06 2.06-.94-2.06-.94-.94-2.06-.94 2.06-2.06.94zm-11 1L8.5 8.5l.94-2.06 2.06-.94-2.06-.94L8.5 2.5l-.94 2.06-2.06.94zm10 10l.94 2.06.94-2.06 2.06-.94-2.06-.94-.94-2.06-.94 2.06-2.06.94z\"/><path d=\"M17.41 7.96l-1.37-1.37c-.4-.4-.92-.59-1.43-.59-.52 0-1.04.2-1.43.59L10.3 9.45l-7.72 7.72c-.78.78-.78 2.05 0 2.83L4 21.41c.39.39.9.59 1.41.59.51 0 1.02-.2 1.41-.59l7.78-7.78 2.81-2.81c.8-.78.8-2.07 0-2.86zM5.41 20L4 18.59l7.72-7.72 1.47 1.35L5.41 20z\"/>\n",
              "  </svg>\n",
              "      </button>\n",
              "      \n",
              "  <style>\n",
              "    .colab-df-container {\n",
              "      display:flex;\n",
              "      flex-wrap:wrap;\n",
              "      gap: 12px;\n",
              "    }\n",
              "\n",
              "    .colab-df-convert {\n",
              "      background-color: #E8F0FE;\n",
              "      border: none;\n",
              "      border-radius: 50%;\n",
              "      cursor: pointer;\n",
              "      display: none;\n",
              "      fill: #1967D2;\n",
              "      height: 32px;\n",
              "      padding: 0 0 0 0;\n",
              "      width: 32px;\n",
              "    }\n",
              "\n",
              "    .colab-df-convert:hover {\n",
              "      background-color: #E2EBFA;\n",
              "      box-shadow: 0px 1px 2px rgba(60, 64, 67, 0.3), 0px 1px 3px 1px rgba(60, 64, 67, 0.15);\n",
              "      fill: #174EA6;\n",
              "    }\n",
              "\n",
              "    [theme=dark] .colab-df-convert {\n",
              "      background-color: #3B4455;\n",
              "      fill: #D2E3FC;\n",
              "    }\n",
              "\n",
              "    [theme=dark] .colab-df-convert:hover {\n",
              "      background-color: #434B5C;\n",
              "      box-shadow: 0px 1px 3px 1px rgba(0, 0, 0, 0.15);\n",
              "      filter: drop-shadow(0px 1px 2px rgba(0, 0, 0, 0.3));\n",
              "      fill: #FFFFFF;\n",
              "    }\n",
              "  </style>\n",
              "\n",
              "      <script>\n",
              "        const buttonEl =\n",
              "          document.querySelector('#df-f92c75cc-d0d1-4826-9be5-7f0972e3da80 button.colab-df-convert');\n",
              "        buttonEl.style.display =\n",
              "          google.colab.kernel.accessAllowed ? 'block' : 'none';\n",
              "\n",
              "        async function convertToInteractive(key) {\n",
              "          const element = document.querySelector('#df-f92c75cc-d0d1-4826-9be5-7f0972e3da80');\n",
              "          const dataTable =\n",
              "            await google.colab.kernel.invokeFunction('convertToInteractive',\n",
              "                                                     [key], {});\n",
              "          if (!dataTable) return;\n",
              "\n",
              "          const docLinkHtml = 'Like what you see? Visit the ' +\n",
              "            '<a target=\"_blank\" href=https://colab.research.google.com/notebooks/data_table.ipynb>data table notebook</a>'\n",
              "            + ' to learn more about interactive tables.';\n",
              "          element.innerHTML = '';\n",
              "          dataTable['output_type'] = 'display_data';\n",
              "          await google.colab.output.renderOutput(dataTable, element);\n",
              "          const docLink = document.createElement('div');\n",
              "          docLink.innerHTML = docLinkHtml;\n",
              "          element.appendChild(docLink);\n",
              "        }\n",
              "      </script>\n",
              "    </div>\n",
              "  </div>\n",
              "  "
            ],
            "text/plain": [
              "           film_code    cinema_code  ...        quarter            day\n",
              "count  142524.000000  142524.000000  ...  142524.000000  142524.000000\n",
              "mean     1518.985111     320.378427  ...       2.634721      16.112585\n",
              "std        36.184450     159.701229  ...       0.809692       8.949471\n",
              "min      1471.000000      32.000000  ...       1.000000       1.000000\n",
              "25%      1485.000000     181.000000  ...       2.000000       8.000000\n",
              "50%      1498.000000     324.000000  ...       3.000000      16.000000\n",
              "75%      1556.000000     474.000000  ...       3.000000      24.000000\n",
              "max      1589.000000     637.000000  ...       4.000000      31.000000\n",
              "\n",
              "[8 rows x 13 columns]"
            ]
          },
          "metadata": {},
          "execution_count": 5
        }
      ],
      "source": [
        "df.describe()"
      ]
    },
    {
      "cell_type": "markdown",
      "source": [
        "## **Data Visualization**"
      ],
      "metadata": {
        "id": "wIB1csUfYy2Y"
      }
    },
    {
      "cell_type": "code",
      "source": [
        "df.plot()"
      ],
      "metadata": {
        "id": "ZGAfkT5ktebo",
        "colab": {
          "base_uri": "https://localhost:8080/",
          "height": 293
        },
        "outputId": "77ebc361-ba51-42cd-d6b6-6072e5710a5e"
      },
      "execution_count": 6,
      "outputs": [
        {
          "output_type": "execute_result",
          "data": {
            "text/plain": [
              "<matplotlib.axes._subplots.AxesSubplot at 0x7f30101c39d0>"
            ]
          },
          "metadata": {},
          "execution_count": 6
        },
        {
          "output_type": "display_data",
          "data": {
            "image/png": "[encoded data removed]",
            "text/plain": [
              "<Figure size 432x288 with 1 Axes>"
            ]
          },
          "metadata": {
            "needs_background": "light"
          }
        }
      ]
    },
    {
      "cell_type": "code",
      "source": [
        "df.hist(bins=10, figsize=(15, 10))"
      ],
      "metadata": {
        "colab": {
          "base_uri": "https://localhost:8080/",
          "height": 902
        },
        "id": "_KNKL-0_tR-u",
        "outputId": "9ca02f6a-32cf-433d-eaab-2072cd53ea25"
      },
      "execution_count": 7,
      "outputs": [
        {
          "output_type": "execute_result",
          "data": {
            "text/plain": [
              "array([[<matplotlib.axes._subplots.AxesSubplot object at 0x7f2ffabc71d0>,\n",
              "        <matplotlib.axes._subplots.AxesSubplot object at 0x7f2ffac04990>,\n",
              "        <matplotlib.axes._subplots.AxesSubplot object at 0x7f2ffabb9f90>,\n",
              "        <matplotlib.axes._subplots.AxesSubplot object at 0x7f2ffab7b5d0>],\n",
              "       [<matplotlib.axes._subplots.AxesSubplot object at 0x7f2ffab31e50>,\n",
              "        <matplotlib.axes._subplots.AxesSubplot object at 0x7f2ffaafb5d0>,\n",
              "        <matplotlib.axes._subplots.AxesSubplot object at 0x7f2ffaab4b50>,\n",
              "        <matplotlib.axes._subplots.AxesSubplot object at 0x7f2ffaa6af10>],\n",
              "       [<matplotlib.axes._subplots.AxesSubplot object at 0x7f2ffaa6af50>,\n",
              "        <matplotlib.axes._subplots.AxesSubplot object at 0x7f2ffaa2d610>,\n",
              "        <matplotlib.axes._subplots.AxesSubplot object at 0x7f2ffa9a3190>,\n",
              "        <matplotlib.axes._subplots.AxesSubplot object at 0x7f2ffa956790>],\n",
              "       [<matplotlib.axes._subplots.AxesSubplot object at 0x7f2ffa90edd0>,\n",
              "        <matplotlib.axes._subplots.AxesSubplot object at 0x7f2ffa8cf410>,\n",
              "        <matplotlib.axes._subplots.AxesSubplot object at 0x7f2ffa904a10>,\n",
              "        <matplotlib.axes._subplots.AxesSubplot object at 0x7f2ffa8bbfd0>]],\n",
              "      dtype=object)"
            ]
          },
          "metadata": {},
          "execution_count": 7
        },
        {
          "output_type": "display_data",
          "data": {
            "image/png": "[encoded data removed]",
            "text/plain": [
              "<Figure size 1080x720 with 16 Axes>"
            ]
          },
          "metadata": {
            "needs_background": "light"
          }
        }
      ]
    },
    {
      "cell_type": "code",
      "source": [
        "df.hist(column='ticket_price')"
      ],
      "metadata": {
        "colab": {
          "base_uri": "https://localhost:8080/",
          "height": 316
        },
        "id": "lgzPFmV22c21",
        "outputId": "a1e1ae44-7f2f-4d7f-b0ba-dafa63feb2fd"
      },
      "execution_count": 8,
      "outputs": [
        {
          "output_type": "execute_result",
          "data": {
            "text/plain": [
              "array([[<matplotlib.axes._subplots.AxesSubplot object at 0x7f2ffa52a2d0>]],\n",
              "      dtype=object)"
            ]
          },
          "metadata": {},
          "execution_count": 8
        },
        {
          "output_type": "display_data",
          "data": {
            "image/png": "[encoded data removed]",
            "text/plain": [
              "<Figure size 432x288 with 1 Axes>"
            ]
          },
          "metadata": {
            "needs_background": "light"
          }
        }
      ]
    },
    {
      "cell_type": "code",
      "execution_count": 9,
      "metadata": {
        "id": "xBNjWPrzUc5v",
        "colab": {
          "base_uri": "https://localhost:8080/",
          "height": 596
        },
        "outputId": "205bf8a6-a989-4e8e-b9ac-b2db943ed787"
      },
      "outputs": [
        {
          "output_type": "display_data",
          "data": {
            "image/png": "[encoded data removed]",
            "text/plain": [
              "<Figure size 1440x720 with 2 Axes>"
            ]
          },
          "metadata": {
            "needs_background": "light"
          }
        }
      ],
      "source": [
        "plt.figure(figsize=(20, 10))\n",
        "sns.heatmap(df.corr(),annot=True, linewidths=2,linecolor=\"white\")\n",
        "plt.show()"
      ]
    },
    {
      "cell_type": "code",
      "execution_count": 10,
      "metadata": {
        "id": "wTOqqVR0A3SO",
        "colab": {
          "base_uri": "https://localhost:8080/",
          "height": 457
        },
        "outputId": "3b26dc53-a00f-4cec-afc7-733faa77d8d4"
      },
      "outputs": [
        {
          "output_type": "execute_result",
          "data": {
            "text/html": [
              "<style  type=\"text/css\" >\n",
              "#T_cfd54360_7f44_11ec_9cde_0242ac1c0002row0_col0,#T_cfd54360_7f44_11ec_9cde_0242ac1c0002row1_col1,#T_cfd54360_7f44_11ec_9cde_0242ac1c0002row2_col2,#T_cfd54360_7f44_11ec_9cde_0242ac1c0002row3_col3,#T_cfd54360_7f44_11ec_9cde_0242ac1c0002row3_col8,#T_cfd54360_7f44_11ec_9cde_0242ac1c0002row4_col4,#T_cfd54360_7f44_11ec_9cde_0242ac1c0002row5_col5,#T_cfd54360_7f44_11ec_9cde_0242ac1c0002row6_col6,#T_cfd54360_7f44_11ec_9cde_0242ac1c0002row7_col7,#T_cfd54360_7f44_11ec_9cde_0242ac1c0002row8_col3,#T_cfd54360_7f44_11ec_9cde_0242ac1c0002row8_col8,#T_cfd54360_7f44_11ec_9cde_0242ac1c0002row9_col9,#T_cfd54360_7f44_11ec_9cde_0242ac1c0002row10_col10,#T_cfd54360_7f44_11ec_9cde_0242ac1c0002row11_col11,#T_cfd54360_7f44_11ec_9cde_0242ac1c0002row12_col12{\n",
              "            background-color:  #b40426;\n",
              "            color:  #f1f1f1;\n",
              "        }#T_cfd54360_7f44_11ec_9cde_0242ac1c0002row0_col1{\n",
              "            background-color:  #98b9ff;\n",
              "            color:  #000000;\n",
              "        }#T_cfd54360_7f44_11ec_9cde_0242ac1c0002row0_col2,#T_cfd54360_7f44_11ec_9cde_0242ac1c0002row3_col4,#T_cfd54360_7f44_11ec_9cde_0242ac1c0002row6_col7{\n",
              "            background-color:  #5470de;\n",
              "            color:  #000000;\n",
              "        }#T_cfd54360_7f44_11ec_9cde_0242ac1c0002row0_col3,#T_cfd54360_7f44_11ec_9cde_0242ac1c0002row0_col8,#T_cfd54360_7f44_11ec_9cde_0242ac1c0002row3_col0,#T_cfd54360_7f44_11ec_9cde_0242ac1c0002row3_col11,#T_cfd54360_7f44_11ec_9cde_0242ac1c0002row8_col0,#T_cfd54360_7f44_11ec_9cde_0242ac1c0002row8_col11,#T_cfd54360_7f44_11ec_9cde_0242ac1c0002row12_col3,#T_cfd54360_7f44_11ec_9cde_0242ac1c0002row12_col8{\n",
              "            background-color:  #5572df;\n",
              "            color:  #000000;\n",
              "        }#T_cfd54360_7f44_11ec_9cde_0242ac1c0002row0_col4,#T_cfd54360_7f44_11ec_9cde_0242ac1c0002row4_col7{\n",
              "            background-color:  #3d50c3;\n",
              "            color:  #f1f1f1;\n",
              "        }#T_cfd54360_7f44_11ec_9cde_0242ac1c0002row0_col5,#T_cfd54360_7f44_11ec_9cde_0242ac1c0002row3_col1,#T_cfd54360_7f44_11ec_9cde_0242ac1c0002row8_col1{\n",
              "            background-color:  #82a6fb;\n",
              "            color:  #000000;\n",
              "        }#T_cfd54360_7f44_11ec_9cde_0242ac1c0002row0_col6,#T_cfd54360_7f44_11ec_9cde_0242ac1c0002row11_col3,#T_cfd54360_7f44_11ec_9cde_0242ac1c0002row11_col8{\n",
              "            background-color:  #455cce;\n",
              "            color:  #f1f1f1;\n",
              "        }#T_cfd54360_7f44_11ec_9cde_0242ac1c0002row0_col7,#T_cfd54360_7f44_11ec_9cde_0242ac1c0002row2_col0,#T_cfd54360_7f44_11ec_9cde_0242ac1c0002row3_col7,#T_cfd54360_7f44_11ec_9cde_0242ac1c0002row8_col7{\n",
              "            background-color:  #5a78e4;\n",
              "            color:  #000000;\n",
              "        }#T_cfd54360_7f44_11ec_9cde_0242ac1c0002row0_col9,#T_cfd54360_7f44_11ec_9cde_0242ac1c0002row7_col5{\n",
              "            background-color:  #a1c0ff;\n",
              "            color:  #000000;\n",
              "        }#T_cfd54360_7f44_11ec_9cde_0242ac1c0002row0_col10{\n",
              "            background-color:  #de614d;\n",
              "            color:  #000000;\n",
              "        }#T_cfd54360_7f44_11ec_9cde_0242ac1c0002row0_col11{\n",
              "            background-color:  #e8765c;\n",
              "            color:  #000000;\n",
              "        }#T_cfd54360_7f44_11ec_9cde_0242ac1c0002row0_col12,#T_cfd54360_7f44_11ec_9cde_0242ac1c0002row1_col0,#T_cfd54360_7f44_11ec_9cde_0242ac1c0002row5_col10{\n",
              "            background-color:  #5f7fe8;\n",
              "            color:  #000000;\n",
              "        }#T_cfd54360_7f44_11ec_9cde_0242ac1c0002row1_col2,#T_cfd54360_7f44_11ec_9cde_0242ac1c0002row6_col11{\n",
              "            background-color:  #4e68d8;\n",
              "            color:  #000000;\n",
              "        }#T_cfd54360_7f44_11ec_9cde_0242ac1c0002row1_col3,#T_cfd54360_7f44_11ec_9cde_0242ac1c0002row1_col8{\n",
              "            background-color:  #485fd1;\n",
              "            color:  #f1f1f1;\n",
              "        }#T_cfd54360_7f44_11ec_9cde_0242ac1c0002row1_col4{\n",
              "            background-color:  #445acc;\n",
              "            color:  #f1f1f1;\n",
              "        }#T_cfd54360_7f44_11ec_9cde_0242ac1c0002row1_col5,#T_cfd54360_7f44_11ec_9cde_0242ac1c0002row1_col9,#T_cfd54360_7f44_11ec_9cde_0242ac1c0002row6_col0,#T_cfd54360_7f44_11ec_9cde_0242ac1c0002row9_col1,#T_cfd54360_7f44_11ec_9cde_0242ac1c0002row9_col6,#T_cfd54360_7f44_11ec_9cde_0242ac1c0002row9_col7,#T_cfd54360_7f44_11ec_9cde_0242ac1c0002row10_col2,#T_cfd54360_7f44_11ec_9cde_0242ac1c0002row10_col3,#T_cfd54360_7f44_11ec_9cde_0242ac1c0002row10_col4,#T_cfd54360_7f44_11ec_9cde_0242ac1c0002row10_col6,#T_cfd54360_7f44_11ec_9cde_0242ac1c0002row10_col8,#T_cfd54360_7f44_11ec_9cde_0242ac1c0002row10_col12,#T_cfd54360_7f44_11ec_9cde_0242ac1c0002row11_col12,#T_cfd54360_7f44_11ec_9cde_0242ac1c0002row12_col7,#T_cfd54360_7f44_11ec_9cde_0242ac1c0002row12_col10,#T_cfd54360_7f44_11ec_9cde_0242ac1c0002row12_col11{\n",
              "            background-color:  #3b4cc0;\n",
              "            color:  #f1f1f1;\n",
              "        }#T_cfd54360_7f44_11ec_9cde_0242ac1c0002row1_col6{\n",
              "            background-color:  #88abfd;\n",
              "            color:  #000000;\n",
              "        }#T_cfd54360_7f44_11ec_9cde_0242ac1c0002row1_col7,#T_cfd54360_7f44_11ec_9cde_0242ac1c0002row11_col4{\n",
              "            background-color:  #3c4ec2;\n",
              "            color:  #f1f1f1;\n",
              "        }#T_cfd54360_7f44_11ec_9cde_0242ac1c0002row1_col10,#T_cfd54360_7f44_11ec_9cde_0242ac1c0002row7_col10{\n",
              "            background-color:  #7597f6;\n",
              "            color:  #000000;\n",
              "        }#T_cfd54360_7f44_11ec_9cde_0242ac1c0002row1_col11{\n",
              "            background-color:  #7699f6;\n",
              "            color:  #000000;\n",
              "        }#T_cfd54360_7f44_11ec_9cde_0242ac1c0002row1_col12,#T_cfd54360_7f44_11ec_9cde_0242ac1c0002row2_col12,#T_cfd54360_7f44_11ec_9cde_0242ac1c0002row7_col12{\n",
              "            background-color:  #6788ee;\n",
              "            color:  #000000;\n",
              "        }#T_cfd54360_7f44_11ec_9cde_0242ac1c0002row2_col1{\n",
              "            background-color:  #8db0fe;\n",
              "            color:  #000000;\n",
              "        }#T_cfd54360_7f44_11ec_9cde_0242ac1c0002row2_col3,#T_cfd54360_7f44_11ec_9cde_0242ac1c0002row2_col8{\n",
              "            background-color:  #cf453c;\n",
              "            color:  #f1f1f1;\n",
              "        }#T_cfd54360_7f44_11ec_9cde_0242ac1c0002row2_col4{\n",
              "            background-color:  #536edd;\n",
              "            color:  #000000;\n",
              "        }#T_cfd54360_7f44_11ec_9cde_0242ac1c0002row2_col5{\n",
              "            background-color:  #f0cdbb;\n",
              "            color:  #000000;\n",
              "        }#T_cfd54360_7f44_11ec_9cde_0242ac1c0002row2_col6{\n",
              "            background-color:  #dadce0;\n",
              "            color:  #000000;\n",
              "        }#T_cfd54360_7f44_11ec_9cde_0242ac1c0002row2_col7{\n",
              "            background-color:  #94b6ff;\n",
              "            color:  #000000;\n",
              "        }#T_cfd54360_7f44_11ec_9cde_0242ac1c0002row2_col9{\n",
              "            background-color:  #e6d7cf;\n",
              "            color:  #000000;\n",
              "        }#T_cfd54360_7f44_11ec_9cde_0242ac1c0002row2_col10,#T_cfd54360_7f44_11ec_9cde_0242ac1c0002row12_col0{\n",
              "            background-color:  #4f69d9;\n",
              "            color:  #000000;\n",
              "        }#T_cfd54360_7f44_11ec_9cde_0242ac1c0002row2_col11{\n",
              "            background-color:  #5977e3;\n",
              "            color:  #000000;\n",
              "        }#T_cfd54360_7f44_11ec_9cde_0242ac1c0002row3_col2,#T_cfd54360_7f44_11ec_9cde_0242ac1c0002row8_col2{\n",
              "            background-color:  #d0473d;\n",
              "            color:  #f1f1f1;\n",
              "        }#T_cfd54360_7f44_11ec_9cde_0242ac1c0002row3_col5,#T_cfd54360_7f44_11ec_9cde_0242ac1c0002row8_col5{\n",
              "            background-color:  #f1ccb8;\n",
              "            color:  #000000;\n",
              "        }#T_cfd54360_7f44_11ec_9cde_0242ac1c0002row3_col6,#T_cfd54360_7f44_11ec_9cde_0242ac1c0002row8_col6{\n",
              "            background-color:  #ead4c8;\n",
              "            color:  #000000;\n",
              "        }#T_cfd54360_7f44_11ec_9cde_0242ac1c0002row3_col9,#T_cfd54360_7f44_11ec_9cde_0242ac1c0002row8_col9{\n",
              "            background-color:  #eed0c0;\n",
              "            color:  #000000;\n",
              "        }#T_cfd54360_7f44_11ec_9cde_0242ac1c0002row3_col10,#T_cfd54360_7f44_11ec_9cde_0242ac1c0002row8_col10,#T_cfd54360_7f44_11ec_9cde_0242ac1c0002row9_col4,#T_cfd54360_7f44_11ec_9cde_0242ac1c0002row10_col7,#T_cfd54360_7f44_11ec_9cde_0242ac1c0002row11_col6{\n",
              "            background-color:  #4961d2;\n",
              "            color:  #f1f1f1;\n",
              "        }#T_cfd54360_7f44_11ec_9cde_0242ac1c0002row3_col12,#T_cfd54360_7f44_11ec_9cde_0242ac1c0002row8_col12,#T_cfd54360_7f44_11ec_9cde_0242ac1c0002row10_col5,#T_cfd54360_7f44_11ec_9cde_0242ac1c0002row11_col5{\n",
              "            background-color:  #6687ed;\n",
              "            color:  #000000;\n",
              "        }#T_cfd54360_7f44_11ec_9cde_0242ac1c0002row4_col0,#T_cfd54360_7f44_11ec_9cde_0242ac1c0002row5_col4{\n",
              "            background-color:  #5673e0;\n",
              "            color:  #000000;\n",
              "        }#T_cfd54360_7f44_11ec_9cde_0242ac1c0002row4_col1{\n",
              "            background-color:  #96b7ff;\n",
              "            color:  #000000;\n",
              "        }#T_cfd54360_7f44_11ec_9cde_0242ac1c0002row4_col2,#T_cfd54360_7f44_11ec_9cde_0242ac1c0002row4_col11{\n",
              "            background-color:  #6485ec;\n",
              "            color:  #000000;\n",
              "        }#T_cfd54360_7f44_11ec_9cde_0242ac1c0002row4_col3,#T_cfd54360_7f44_11ec_9cde_0242ac1c0002row6_col9{\n",
              "            background-color:  #6c8ff1;\n",
              "            color:  #000000;\n",
              "        }#T_cfd54360_7f44_11ec_9cde_0242ac1c0002row4_col5{\n",
              "            background-color:  #84a7fc;\n",
              "            color:  #000000;\n",
              "        }#T_cfd54360_7f44_11ec_9cde_0242ac1c0002row4_col6,#T_cfd54360_7f44_11ec_9cde_0242ac1c0002row12_col5{\n",
              "            background-color:  #6f92f3;\n",
              "            color:  #000000;\n",
              "        }#T_cfd54360_7f44_11ec_9cde_0242ac1c0002row4_col8,#T_cfd54360_7f44_11ec_9cde_0242ac1c0002row5_col12,#T_cfd54360_7f44_11ec_9cde_0242ac1c0002row9_col0{\n",
              "            background-color:  #6a8bef;\n",
              "            color:  #000000;\n",
              "        }#T_cfd54360_7f44_11ec_9cde_0242ac1c0002row4_col9{\n",
              "            background-color:  #9abbff;\n",
              "            color:  #000000;\n",
              "        }#T_cfd54360_7f44_11ec_9cde_0242ac1c0002row4_col10{\n",
              "            background-color:  #6282ea;\n",
              "            color:  #000000;\n",
              "        }#T_cfd54360_7f44_11ec_9cde_0242ac1c0002row4_col12,#T_cfd54360_7f44_11ec_9cde_0242ac1c0002row9_col12{\n",
              "            background-color:  #688aef;\n",
              "            color:  #000000;\n",
              "        }#T_cfd54360_7f44_11ec_9cde_0242ac1c0002row5_col0{\n",
              "            background-color:  #6e90f2;\n",
              "            color:  #000000;\n",
              "        }#T_cfd54360_7f44_11ec_9cde_0242ac1c0002row5_col1,#T_cfd54360_7f44_11ec_9cde_0242ac1c0002row5_col11,#T_cfd54360_7f44_11ec_9cde_0242ac1c0002row9_col11{\n",
              "            background-color:  #6180e9;\n",
              "            color:  #000000;\n",
              "        }#T_cfd54360_7f44_11ec_9cde_0242ac1c0002row5_col2{\n",
              "            background-color:  #e8d6cc;\n",
              "            color:  #000000;\n",
              "        }#T_cfd54360_7f44_11ec_9cde_0242ac1c0002row5_col3,#T_cfd54360_7f44_11ec_9cde_0242ac1c0002row5_col8{\n",
              "            background-color:  #edd2c3;\n",
              "            color:  #000000;\n",
              "        }#T_cfd54360_7f44_11ec_9cde_0242ac1c0002row5_col6,#T_cfd54360_7f44_11ec_9cde_0242ac1c0002row5_col7{\n",
              "            background-color:  #7295f4;\n",
              "            color:  #000000;\n",
              "        }#T_cfd54360_7f44_11ec_9cde_0242ac1c0002row5_col9{\n",
              "            background-color:  #f39475;\n",
              "            color:  #000000;\n",
              "        }#T_cfd54360_7f44_11ec_9cde_0242ac1c0002row6_col1{\n",
              "            background-color:  #b1cbfc;\n",
              "            color:  #000000;\n",
              "        }#T_cfd54360_7f44_11ec_9cde_0242ac1c0002row6_col2{\n",
              "            background-color:  #d2dbe8;\n",
              "            color:  #000000;\n",
              "        }#T_cfd54360_7f44_11ec_9cde_0242ac1c0002row6_col3,#T_cfd54360_7f44_11ec_9cde_0242ac1c0002row6_col8{\n",
              "            background-color:  #e7d7ce;\n",
              "            color:  #000000;\n",
              "        }#T_cfd54360_7f44_11ec_9cde_0242ac1c0002row6_col4{\n",
              "            background-color:  #4b64d5;\n",
              "            color:  #f1f1f1;\n",
              "        }#T_cfd54360_7f44_11ec_9cde_0242ac1c0002row6_col5{\n",
              "            background-color:  #7da0f9;\n",
              "            color:  #000000;\n",
              "        }#T_cfd54360_7f44_11ec_9cde_0242ac1c0002row6_col10{\n",
              "            background-color:  #3e51c5;\n",
              "            color:  #f1f1f1;\n",
              "        }#T_cfd54360_7f44_11ec_9cde_0242ac1c0002row6_col12{\n",
              "            background-color:  #6384eb;\n",
              "            color:  #000000;\n",
              "        }#T_cfd54360_7f44_11ec_9cde_0242ac1c0002row7_col0,#T_cfd54360_7f44_11ec_9cde_0242ac1c0002row7_col3,#T_cfd54360_7f44_11ec_9cde_0242ac1c0002row7_col8{\n",
              "            background-color:  #779af7;\n",
              "            color:  #000000;\n",
              "        }#T_cfd54360_7f44_11ec_9cde_0242ac1c0002row7_col1,#T_cfd54360_7f44_11ec_9cde_0242ac1c0002row7_col9{\n",
              "            background-color:  #92b4fe;\n",
              "            color:  #000000;\n",
              "        }#T_cfd54360_7f44_11ec_9cde_0242ac1c0002row7_col2{\n",
              "            background-color:  #a7c5fe;\n",
              "            color:  #000000;\n",
              "        }#T_cfd54360_7f44_11ec_9cde_0242ac1c0002row7_col4,#T_cfd54360_7f44_11ec_9cde_0242ac1c0002row11_col2{\n",
              "            background-color:  #4257c9;\n",
              "            color:  #f1f1f1;\n",
              "        }#T_cfd54360_7f44_11ec_9cde_0242ac1c0002row7_col6{\n",
              "            background-color:  #7b9ff9;\n",
              "            color:  #000000;\n",
              "        }#T_cfd54360_7f44_11ec_9cde_0242ac1c0002row7_col11{\n",
              "            background-color:  #7396f5;\n",
              "            color:  #000000;\n",
              "        }#T_cfd54360_7f44_11ec_9cde_0242ac1c0002row8_col4,#T_cfd54360_7f44_11ec_9cde_0242ac1c0002row12_col2{\n",
              "            background-color:  #506bda;\n",
              "            color:  #000000;\n",
              "        }#T_cfd54360_7f44_11ec_9cde_0242ac1c0002row9_col2{\n",
              "            background-color:  #c7d7f0;\n",
              "            color:  #000000;\n",
              "        }#T_cfd54360_7f44_11ec_9cde_0242ac1c0002row9_col3,#T_cfd54360_7f44_11ec_9cde_0242ac1c0002row9_col8{\n",
              "            background-color:  #d7dce3;\n",
              "            color:  #000000;\n",
              "        }#T_cfd54360_7f44_11ec_9cde_0242ac1c0002row9_col5{\n",
              "            background-color:  #f5a081;\n",
              "            color:  #000000;\n",
              "        }#T_cfd54360_7f44_11ec_9cde_0242ac1c0002row9_col10,#T_cfd54360_7f44_11ec_9cde_0242ac1c0002row12_col6{\n",
              "            background-color:  #5e7de7;\n",
              "            color:  #000000;\n",
              "        }#T_cfd54360_7f44_11ec_9cde_0242ac1c0002row10_col0{\n",
              "            background-color:  #e0654f;\n",
              "            color:  #000000;\n",
              "        }#T_cfd54360_7f44_11ec_9cde_0242ac1c0002row10_col1,#T_cfd54360_7f44_11ec_9cde_0242ac1c0002row11_col1{\n",
              "            background-color:  #9ebeff;\n",
              "            color:  #000000;\n",
              "        }#T_cfd54360_7f44_11ec_9cde_0242ac1c0002row10_col9,#T_cfd54360_7f44_11ec_9cde_0242ac1c0002row11_col9{\n",
              "            background-color:  #8badfd;\n",
              "            color:  #000000;\n",
              "        }#T_cfd54360_7f44_11ec_9cde_0242ac1c0002row10_col11,#T_cfd54360_7f44_11ec_9cde_0242ac1c0002row11_col10{\n",
              "            background-color:  #c53334;\n",
              "            color:  #f1f1f1;\n",
              "        }#T_cfd54360_7f44_11ec_9cde_0242ac1c0002row11_col0{\n",
              "            background-color:  #ea7b60;\n",
              "            color:  #000000;\n",
              "        }#T_cfd54360_7f44_11ec_9cde_0242ac1c0002row11_col7{\n",
              "            background-color:  #465ecf;\n",
              "            color:  #f1f1f1;\n",
              "        }#T_cfd54360_7f44_11ec_9cde_0242ac1c0002row12_col1{\n",
              "            background-color:  #90b2fe;\n",
              "            color:  #000000;\n",
              "        }#T_cfd54360_7f44_11ec_9cde_0242ac1c0002row12_col4{\n",
              "            background-color:  #3f53c6;\n",
              "            color:  #f1f1f1;\n",
              "        }#T_cfd54360_7f44_11ec_9cde_0242ac1c0002row12_col9{\n",
              "            background-color:  #93b5fe;\n",
              "            color:  #000000;\n",
              "        }</style><table id=\"T_cfd54360_7f44_11ec_9cde_0242ac1c0002\" class=\"dataframe\"><thead>    <tr>        <th class=\"blank level0\" ></th>        <th class=\"col_heading level0 col0\" >film_code</th>        <th class=\"col_heading level0 col1\" >cinema_code</th>        <th class=\"col_heading level0 col2\" >total_sales</th>        <th class=\"col_heading level0 col3\" >tickets_sold</th>        <th class=\"col_heading level0 col4\" >tickets_out</th>        <th class=\"col_heading level0 col5\" >show_time</th>        <th class=\"col_heading level0 col6\" >occu_perc</th>        <th class=\"col_heading level0 col7\" >ticket_price</th>        <th class=\"col_heading level0 col8\" >ticket_use</th>        <th class=\"col_heading level0 col9\" >capacity</th>        <th class=\"col_heading level0 col10\" >month</th>        <th class=\"col_heading level0 col11\" >quarter</th>        <th class=\"col_heading level0 col12\" >day</th>    </tr></thead><tbody>\n",
              "                <tr>\n",
              "                        <th id=\"T_cfd54360_7f44_11ec_9cde_0242ac1c0002level0_row0\" class=\"row_heading level0 row0\" >film_code</th>\n",
              "                        <td id=\"T_cfd54360_7f44_11ec_9cde_0242ac1c0002row0_col0\" class=\"data row0 col0\" >1.00</td>\n",
              "                        <td id=\"T_cfd54360_7f44_11ec_9cde_0242ac1c0002row0_col1\" class=\"data row0 col1\" >0.03</td>\n",
              "                        <td id=\"T_cfd54360_7f44_11ec_9cde_0242ac1c0002row0_col2\" class=\"data row0 col2\" >0.01</td>\n",
              "                        <td id=\"T_cfd54360_7f44_11ec_9cde_0242ac1c0002row0_col3\" class=\"data row0 col3\" >-0.01</td>\n",
              "                        <td id=\"T_cfd54360_7f44_11ec_9cde_0242ac1c0002row0_col4\" class=\"data row0 col4\" >-0.00</td>\n",
              "                        <td id=\"T_cfd54360_7f44_11ec_9cde_0242ac1c0002row0_col5\" class=\"data row0 col5\" >0.08</td>\n",
              "                        <td id=\"T_cfd54360_7f44_11ec_9cde_0242ac1c0002row0_col6\" class=\"data row0 col6\" >-0.10</td>\n",
              "                        <td id=\"T_cfd54360_7f44_11ec_9cde_0242ac1c0002row0_col7\" class=\"data row0 col7\" >0.10</td>\n",
              "                        <td id=\"T_cfd54360_7f44_11ec_9cde_0242ac1c0002row0_col8\" class=\"data row0 col8\" >-0.01</td>\n",
              "                        <td id=\"T_cfd54360_7f44_11ec_9cde_0242ac1c0002row0_col9\" class=\"data row0 col9\" >0.06</td>\n",
              "                        <td id=\"T_cfd54360_7f44_11ec_9cde_0242ac1c0002row0_col10\" class=\"data row0 col10\" >0.85</td>\n",
              "                        <td id=\"T_cfd54360_7f44_11ec_9cde_0242ac1c0002row0_col11\" class=\"data row0 col11\" >0.80</td>\n",
              "                        <td id=\"T_cfd54360_7f44_11ec_9cde_0242ac1c0002row0_col12\" class=\"data row0 col12\" >-0.03</td>\n",
              "            </tr>\n",
              "            <tr>\n",
              "                        <th id=\"T_cfd54360_7f44_11ec_9cde_0242ac1c0002level0_row1\" class=\"row_heading level0 row1\" >cinema_code</th>\n",
              "                        <td id=\"T_cfd54360_7f44_11ec_9cde_0242ac1c0002row1_col0\" class=\"data row1 col0\" >0.03</td>\n",
              "                        <td id=\"T_cfd54360_7f44_11ec_9cde_0242ac1c0002row1_col1\" class=\"data row1 col1\" >1.00</td>\n",
              "                        <td id=\"T_cfd54360_7f44_11ec_9cde_0242ac1c0002row1_col2\" class=\"data row1 col2\" >-0.01</td>\n",
              "                        <td id=\"T_cfd54360_7f44_11ec_9cde_0242ac1c0002row1_col3\" class=\"data row1 col3\" >-0.05</td>\n",
              "                        <td id=\"T_cfd54360_7f44_11ec_9cde_0242ac1c0002row1_col4\" class=\"data row1 col4\" >0.02</td>\n",
              "                        <td id=\"T_cfd54360_7f44_11ec_9cde_0242ac1c0002row1_col5\" class=\"data row1 col5\" >-0.19</td>\n",
              "                        <td id=\"T_cfd54360_7f44_11ec_9cde_0242ac1c0002row1_col6\" class=\"data row1 col6\" >0.13</td>\n",
              "                        <td id=\"T_cfd54360_7f44_11ec_9cde_0242ac1c0002row1_col7\" class=\"data row1 col7\" >0.01</td>\n",
              "                        <td id=\"T_cfd54360_7f44_11ec_9cde_0242ac1c0002row1_col8\" class=\"data row1 col8\" >-0.05</td>\n",
              "                        <td id=\"T_cfd54360_7f44_11ec_9cde_0242ac1c0002row1_col9\" class=\"data row1 col9\" >-0.35</td>\n",
              "                        <td id=\"T_cfd54360_7f44_11ec_9cde_0242ac1c0002row1_col10\" class=\"data row1 col10\" >0.05</td>\n",
              "                        <td id=\"T_cfd54360_7f44_11ec_9cde_0242ac1c0002row1_col11\" class=\"data row1 col11\" >0.05</td>\n",
              "                        <td id=\"T_cfd54360_7f44_11ec_9cde_0242ac1c0002row1_col12\" class=\"data row1 col12\" >-0.00</td>\n",
              "            </tr>\n",
              "            <tr>\n",
              "                        <th id=\"T_cfd54360_7f44_11ec_9cde_0242ac1c0002level0_row2\" class=\"row_heading level0 row2\" >total_sales</th>\n",
              "                        <td id=\"T_cfd54360_7f44_11ec_9cde_0242ac1c0002row2_col0\" class=\"data row2 col0\" >0.01</td>\n",
              "                        <td id=\"T_cfd54360_7f44_11ec_9cde_0242ac1c0002row2_col1\" class=\"data row2 col1\" >-0.01</td>\n",
              "                        <td id=\"T_cfd54360_7f44_11ec_9cde_0242ac1c0002row2_col2\" class=\"data row2 col2\" >1.00</td>\n",
              "                        <td id=\"T_cfd54360_7f44_11ec_9cde_0242ac1c0002row2_col3\" class=\"data row2 col3\" >0.92</td>\n",
              "                        <td id=\"T_cfd54360_7f44_11ec_9cde_0242ac1c0002row2_col4\" class=\"data row2 col4\" >0.07</td>\n",
              "                        <td id=\"T_cfd54360_7f44_11ec_9cde_0242ac1c0002row2_col5\" class=\"data row2 col5\" >0.51</td>\n",
              "                        <td id=\"T_cfd54360_7f44_11ec_9cde_0242ac1c0002row2_col6\" class=\"data row2 col6\" >0.41</td>\n",
              "                        <td id=\"T_cfd54360_7f44_11ec_9cde_0242ac1c0002row2_col7\" class=\"data row2 col7\" >0.27</td>\n",
              "                        <td id=\"T_cfd54360_7f44_11ec_9cde_0242ac1c0002row2_col8\" class=\"data row2 col8\" >0.92</td>\n",
              "                        <td id=\"T_cfd54360_7f44_11ec_9cde_0242ac1c0002row2_col9\" class=\"data row2 col9\" >0.38</td>\n",
              "                        <td id=\"T_cfd54360_7f44_11ec_9cde_0242ac1c0002row2_col10\" class=\"data row2 col10\" >-0.08</td>\n",
              "                        <td id=\"T_cfd54360_7f44_11ec_9cde_0242ac1c0002row2_col11\" class=\"data row2 col11\" >-0.05</td>\n",
              "                        <td id=\"T_cfd54360_7f44_11ec_9cde_0242ac1c0002row2_col12\" class=\"data row2 col12\" >-0.00</td>\n",
              "            </tr>\n",
              "            <tr>\n",
              "                        <th id=\"T_cfd54360_7f44_11ec_9cde_0242ac1c0002level0_row3\" class=\"row_heading level0 row3\" >tickets_sold</th>\n",
              "                        <td id=\"T_cfd54360_7f44_11ec_9cde_0242ac1c0002row3_col0\" class=\"data row3 col0\" >-0.01</td>\n",
              "                        <td id=\"T_cfd54360_7f44_11ec_9cde_0242ac1c0002row3_col1\" class=\"data row3 col1\" >-0.05</td>\n",
              "                        <td id=\"T_cfd54360_7f44_11ec_9cde_0242ac1c0002row3_col2\" class=\"data row3 col2\" >0.92</td>\n",
              "                        <td id=\"T_cfd54360_7f44_11ec_9cde_0242ac1c0002row3_col3\" class=\"data row3 col3\" >1.00</td>\n",
              "                        <td id=\"T_cfd54360_7f44_11ec_9cde_0242ac1c0002row3_col4\" class=\"data row3 col4\" >0.07</td>\n",
              "                        <td id=\"T_cfd54360_7f44_11ec_9cde_0242ac1c0002row3_col5\" class=\"data row3 col5\" >0.52</td>\n",
              "                        <td id=\"T_cfd54360_7f44_11ec_9cde_0242ac1c0002row3_col6\" class=\"data row3 col6\" >0.49</td>\n",
              "                        <td id=\"T_cfd54360_7f44_11ec_9cde_0242ac1c0002row3_col7\" class=\"data row3 col7\" >0.10</td>\n",
              "                        <td id=\"T_cfd54360_7f44_11ec_9cde_0242ac1c0002row3_col8\" class=\"data row3 col8\" >1.00</td>\n",
              "                        <td id=\"T_cfd54360_7f44_11ec_9cde_0242ac1c0002row3_col9\" class=\"data row3 col9\" >0.43</td>\n",
              "                        <td id=\"T_cfd54360_7f44_11ec_9cde_0242ac1c0002row3_col10\" class=\"data row3 col10\" >-0.10</td>\n",
              "                        <td id=\"T_cfd54360_7f44_11ec_9cde_0242ac1c0002row3_col11\" class=\"data row3 col11\" >-0.06</td>\n",
              "                        <td id=\"T_cfd54360_7f44_11ec_9cde_0242ac1c0002row3_col12\" class=\"data row3 col12\" >-0.01</td>\n",
              "            </tr>\n",
              "            <tr>\n",
              "                        <th id=\"T_cfd54360_7f44_11ec_9cde_0242ac1c0002level0_row4\" class=\"row_heading level0 row4\" >tickets_out</th>\n",
              "                        <td id=\"T_cfd54360_7f44_11ec_9cde_0242ac1c0002row4_col0\" class=\"data row4 col0\" >-0.00</td>\n",
              "                        <td id=\"T_cfd54360_7f44_11ec_9cde_0242ac1c0002row4_col1\" class=\"data row4 col1\" >0.02</td>\n",
              "                        <td id=\"T_cfd54360_7f44_11ec_9cde_0242ac1c0002row4_col2\" class=\"data row4 col2\" >0.07</td>\n",
              "                        <td id=\"T_cfd54360_7f44_11ec_9cde_0242ac1c0002row4_col3\" class=\"data row4 col3\" >0.07</td>\n",
              "                        <td id=\"T_cfd54360_7f44_11ec_9cde_0242ac1c0002row4_col4\" class=\"data row4 col4\" >1.00</td>\n",
              "                        <td id=\"T_cfd54360_7f44_11ec_9cde_0242ac1c0002row4_col5\" class=\"data row4 col5\" >0.08</td>\n",
              "                        <td id=\"T_cfd54360_7f44_11ec_9cde_0242ac1c0002row4_col6\" class=\"data row4 col6\" >0.04</td>\n",
              "                        <td id=\"T_cfd54360_7f44_11ec_9cde_0242ac1c0002row4_col7\" class=\"data row4 col7\" >0.01</td>\n",
              "                        <td id=\"T_cfd54360_7f44_11ec_9cde_0242ac1c0002row4_col8\" class=\"data row4 col8\" >0.06</td>\n",
              "                        <td id=\"T_cfd54360_7f44_11ec_9cde_0242ac1c0002row4_col9\" class=\"data row4 col9\" >0.04</td>\n",
              "                        <td id=\"T_cfd54360_7f44_11ec_9cde_0242ac1c0002row4_col10\" class=\"data row4 col10\" >-0.01</td>\n",
              "                        <td id=\"T_cfd54360_7f44_11ec_9cde_0242ac1c0002row4_col11\" class=\"data row4 col11\" >-0.01</td>\n",
              "                        <td id=\"T_cfd54360_7f44_11ec_9cde_0242ac1c0002row4_col12\" class=\"data row4 col12\" >0.00</td>\n",
              "            </tr>\n",
              "            <tr>\n",
              "                        <th id=\"T_cfd54360_7f44_11ec_9cde_0242ac1c0002level0_row5\" class=\"row_heading level0 row5\" >show_time</th>\n",
              "                        <td id=\"T_cfd54360_7f44_11ec_9cde_0242ac1c0002row5_col0\" class=\"data row5 col0\" >0.08</td>\n",
              "                        <td id=\"T_cfd54360_7f44_11ec_9cde_0242ac1c0002row5_col1\" class=\"data row5 col1\" >-0.19</td>\n",
              "                        <td id=\"T_cfd54360_7f44_11ec_9cde_0242ac1c0002row5_col2\" class=\"data row5 col2\" >0.51</td>\n",
              "                        <td id=\"T_cfd54360_7f44_11ec_9cde_0242ac1c0002row5_col3\" class=\"data row5 col3\" >0.52</td>\n",
              "                        <td id=\"T_cfd54360_7f44_11ec_9cde_0242ac1c0002row5_col4\" class=\"data row5 col4\" >0.08</td>\n",
              "                        <td id=\"T_cfd54360_7f44_11ec_9cde_0242ac1c0002row5_col5\" class=\"data row5 col5\" >1.00</td>\n",
              "                        <td id=\"T_cfd54360_7f44_11ec_9cde_0242ac1c0002row5_col6\" class=\"data row5 col6\" >0.06</td>\n",
              "                        <td id=\"T_cfd54360_7f44_11ec_9cde_0242ac1c0002row5_col7\" class=\"data row5 col7\" >0.18</td>\n",
              "                        <td id=\"T_cfd54360_7f44_11ec_9cde_0242ac1c0002row5_col8\" class=\"data row5 col8\" >0.52</td>\n",
              "                        <td id=\"T_cfd54360_7f44_11ec_9cde_0242ac1c0002row5_col9\" class=\"data row5 col9\" >0.68</td>\n",
              "                        <td id=\"T_cfd54360_7f44_11ec_9cde_0242ac1c0002row5_col10\" class=\"data row5 col10\" >-0.02</td>\n",
              "                        <td id=\"T_cfd54360_7f44_11ec_9cde_0242ac1c0002row5_col11\" class=\"data row5 col11\" >-0.02</td>\n",
              "                        <td id=\"T_cfd54360_7f44_11ec_9cde_0242ac1c0002row5_col12\" class=\"data row5 col12\" >0.01</td>\n",
              "            </tr>\n",
              "            <tr>\n",
              "                        <th id=\"T_cfd54360_7f44_11ec_9cde_0242ac1c0002level0_row6\" class=\"row_heading level0 row6\" >occu_perc</th>\n",
              "                        <td id=\"T_cfd54360_7f44_11ec_9cde_0242ac1c0002row6_col0\" class=\"data row6 col0\" >-0.10</td>\n",
              "                        <td id=\"T_cfd54360_7f44_11ec_9cde_0242ac1c0002row6_col1\" class=\"data row6 col1\" >0.13</td>\n",
              "                        <td id=\"T_cfd54360_7f44_11ec_9cde_0242ac1c0002row6_col2\" class=\"data row6 col2\" >0.41</td>\n",
              "                        <td id=\"T_cfd54360_7f44_11ec_9cde_0242ac1c0002row6_col3\" class=\"data row6 col3\" >0.49</td>\n",
              "                        <td id=\"T_cfd54360_7f44_11ec_9cde_0242ac1c0002row6_col4\" class=\"data row6 col4\" >0.04</td>\n",
              "                        <td id=\"T_cfd54360_7f44_11ec_9cde_0242ac1c0002row6_col5\" class=\"data row6 col5\" >0.06</td>\n",
              "                        <td id=\"T_cfd54360_7f44_11ec_9cde_0242ac1c0002row6_col6\" class=\"data row6 col6\" >1.00</td>\n",
              "                        <td id=\"T_cfd54360_7f44_11ec_9cde_0242ac1c0002row6_col7\" class=\"data row6 col7\" >0.08</td>\n",
              "                        <td id=\"T_cfd54360_7f44_11ec_9cde_0242ac1c0002row6_col8\" class=\"data row6 col8\" >0.49</td>\n",
              "                        <td id=\"T_cfd54360_7f44_11ec_9cde_0242ac1c0002row6_col9\" class=\"data row6 col9\" >-0.14</td>\n",
              "                        <td id=\"T_cfd54360_7f44_11ec_9cde_0242ac1c0002row6_col10\" class=\"data row6 col10\" >-0.15</td>\n",
              "                        <td id=\"T_cfd54360_7f44_11ec_9cde_0242ac1c0002row6_col11\" class=\"data row6 col11\" >-0.09</td>\n",
              "                        <td id=\"T_cfd54360_7f44_11ec_9cde_0242ac1c0002row6_col12\" class=\"data row6 col12\" >-0.01</td>\n",
              "            </tr>\n",
              "            <tr>\n",
              "                        <th id=\"T_cfd54360_7f44_11ec_9cde_0242ac1c0002level0_row7\" class=\"row_heading level0 row7\" >ticket_price</th>\n",
              "                        <td id=\"T_cfd54360_7f44_11ec_9cde_0242ac1c0002row7_col0\" class=\"data row7 col0\" >0.10</td>\n",
              "                        <td id=\"T_cfd54360_7f44_11ec_9cde_0242ac1c0002row7_col1\" class=\"data row7 col1\" >0.01</td>\n",
              "                        <td id=\"T_cfd54360_7f44_11ec_9cde_0242ac1c0002row7_col2\" class=\"data row7 col2\" >0.27</td>\n",
              "                        <td id=\"T_cfd54360_7f44_11ec_9cde_0242ac1c0002row7_col3\" class=\"data row7 col3\" >0.10</td>\n",
              "                        <td id=\"T_cfd54360_7f44_11ec_9cde_0242ac1c0002row7_col4\" class=\"data row7 col4\" >0.01</td>\n",
              "                        <td id=\"T_cfd54360_7f44_11ec_9cde_0242ac1c0002row7_col5\" class=\"data row7 col5\" >0.18</td>\n",
              "                        <td id=\"T_cfd54360_7f44_11ec_9cde_0242ac1c0002row7_col6\" class=\"data row7 col6\" >0.08</td>\n",
              "                        <td id=\"T_cfd54360_7f44_11ec_9cde_0242ac1c0002row7_col7\" class=\"data row7 col7\" >1.00</td>\n",
              "                        <td id=\"T_cfd54360_7f44_11ec_9cde_0242ac1c0002row7_col8\" class=\"data row7 col8\" >0.10</td>\n",
              "                        <td id=\"T_cfd54360_7f44_11ec_9cde_0242ac1c0002row7_col9\" class=\"data row7 col9\" >0.00</td>\n",
              "                        <td id=\"T_cfd54360_7f44_11ec_9cde_0242ac1c0002row7_col10\" class=\"data row7 col10\" >0.05</td>\n",
              "                        <td id=\"T_cfd54360_7f44_11ec_9cde_0242ac1c0002row7_col11\" class=\"data row7 col11\" >0.04</td>\n",
              "                        <td id=\"T_cfd54360_7f44_11ec_9cde_0242ac1c0002row7_col12\" class=\"data row7 col12\" >0.00</td>\n",
              "            </tr>\n",
              "            <tr>\n",
              "                        <th id=\"T_cfd54360_7f44_11ec_9cde_0242ac1c0002level0_row8\" class=\"row_heading level0 row8\" >ticket_use</th>\n",
              "                        <td id=\"T_cfd54360_7f44_11ec_9cde_0242ac1c0002row8_col0\" class=\"data row8 col0\" >-0.01</td>\n",
              "                        <td id=\"T_cfd54360_7f44_11ec_9cde_0242ac1c0002row8_col1\" class=\"data row8 col1\" >-0.05</td>\n",
              "                        <td id=\"T_cfd54360_7f44_11ec_9cde_0242ac1c0002row8_col2\" class=\"data row8 col2\" >0.92</td>\n",
              "                        <td id=\"T_cfd54360_7f44_11ec_9cde_0242ac1c0002row8_col3\" class=\"data row8 col3\" >1.00</td>\n",
              "                        <td id=\"T_cfd54360_7f44_11ec_9cde_0242ac1c0002row8_col4\" class=\"data row8 col4\" >0.06</td>\n",
              "                        <td id=\"T_cfd54360_7f44_11ec_9cde_0242ac1c0002row8_col5\" class=\"data row8 col5\" >0.52</td>\n",
              "                        <td id=\"T_cfd54360_7f44_11ec_9cde_0242ac1c0002row8_col6\" class=\"data row8 col6\" >0.49</td>\n",
              "                        <td id=\"T_cfd54360_7f44_11ec_9cde_0242ac1c0002row8_col7\" class=\"data row8 col7\" >0.10</td>\n",
              "                        <td id=\"T_cfd54360_7f44_11ec_9cde_0242ac1c0002row8_col8\" class=\"data row8 col8\" >1.00</td>\n",
              "                        <td id=\"T_cfd54360_7f44_11ec_9cde_0242ac1c0002row8_col9\" class=\"data row8 col9\" >0.43</td>\n",
              "                        <td id=\"T_cfd54360_7f44_11ec_9cde_0242ac1c0002row8_col10\" class=\"data row8 col10\" >-0.10</td>\n",
              "                        <td id=\"T_cfd54360_7f44_11ec_9cde_0242ac1c0002row8_col11\" class=\"data row8 col11\" >-0.06</td>\n",
              "                        <td id=\"T_cfd54360_7f44_11ec_9cde_0242ac1c0002row8_col12\" class=\"data row8 col12\" >-0.01</td>\n",
              "            </tr>\n",
              "            <tr>\n",
              "                        <th id=\"T_cfd54360_7f44_11ec_9cde_0242ac1c0002level0_row9\" class=\"row_heading level0 row9\" >capacity</th>\n",
              "                        <td id=\"T_cfd54360_7f44_11ec_9cde_0242ac1c0002row9_col0\" class=\"data row9 col0\" >0.06</td>\n",
              "                        <td id=\"T_cfd54360_7f44_11ec_9cde_0242ac1c0002row9_col1\" class=\"data row9 col1\" >-0.35</td>\n",
              "                        <td id=\"T_cfd54360_7f44_11ec_9cde_0242ac1c0002row9_col2\" class=\"data row9 col2\" >0.38</td>\n",
              "                        <td id=\"T_cfd54360_7f44_11ec_9cde_0242ac1c0002row9_col3\" class=\"data row9 col3\" >0.43</td>\n",
              "                        <td id=\"T_cfd54360_7f44_11ec_9cde_0242ac1c0002row9_col4\" class=\"data row9 col4\" >0.04</td>\n",
              "                        <td id=\"T_cfd54360_7f44_11ec_9cde_0242ac1c0002row9_col5\" class=\"data row9 col5\" >0.68</td>\n",
              "                        <td id=\"T_cfd54360_7f44_11ec_9cde_0242ac1c0002row9_col6\" class=\"data row9 col6\" >-0.14</td>\n",
              "                        <td id=\"T_cfd54360_7f44_11ec_9cde_0242ac1c0002row9_col7\" class=\"data row9 col7\" >0.00</td>\n",
              "                        <td id=\"T_cfd54360_7f44_11ec_9cde_0242ac1c0002row9_col8\" class=\"data row9 col8\" >0.43</td>\n",
              "                        <td id=\"T_cfd54360_7f44_11ec_9cde_0242ac1c0002row9_col9\" class=\"data row9 col9\" >1.00</td>\n",
              "                        <td id=\"T_cfd54360_7f44_11ec_9cde_0242ac1c0002row9_col10\" class=\"data row9 col10\" >-0.03</td>\n",
              "                        <td id=\"T_cfd54360_7f44_11ec_9cde_0242ac1c0002row9_col11\" class=\"data row9 col11\" >-0.02</td>\n",
              "                        <td id=\"T_cfd54360_7f44_11ec_9cde_0242ac1c0002row9_col12\" class=\"data row9 col12\" >0.01</td>\n",
              "            </tr>\n",
              "            <tr>\n",
              "                        <th id=\"T_cfd54360_7f44_11ec_9cde_0242ac1c0002level0_row10\" class=\"row_heading level0 row10\" >month</th>\n",
              "                        <td id=\"T_cfd54360_7f44_11ec_9cde_0242ac1c0002row10_col0\" class=\"data row10 col0\" >0.85</td>\n",
              "                        <td id=\"T_cfd54360_7f44_11ec_9cde_0242ac1c0002row10_col1\" class=\"data row10 col1\" >0.05</td>\n",
              "                        <td id=\"T_cfd54360_7f44_11ec_9cde_0242ac1c0002row10_col2\" class=\"data row10 col2\" >-0.08</td>\n",
              "                        <td id=\"T_cfd54360_7f44_11ec_9cde_0242ac1c0002row10_col3\" class=\"data row10 col3\" >-0.10</td>\n",
              "                        <td id=\"T_cfd54360_7f44_11ec_9cde_0242ac1c0002row10_col4\" class=\"data row10 col4\" >-0.01</td>\n",
              "                        <td id=\"T_cfd54360_7f44_11ec_9cde_0242ac1c0002row10_col5\" class=\"data row10 col5\" >-0.02</td>\n",
              "                        <td id=\"T_cfd54360_7f44_11ec_9cde_0242ac1c0002row10_col6\" class=\"data row10 col6\" >-0.15</td>\n",
              "                        <td id=\"T_cfd54360_7f44_11ec_9cde_0242ac1c0002row10_col7\" class=\"data row10 col7\" >0.05</td>\n",
              "                        <td id=\"T_cfd54360_7f44_11ec_9cde_0242ac1c0002row10_col8\" class=\"data row10 col8\" >-0.10</td>\n",
              "                        <td id=\"T_cfd54360_7f44_11ec_9cde_0242ac1c0002row10_col9\" class=\"data row10 col9\" >-0.03</td>\n",
              "                        <td id=\"T_cfd54360_7f44_11ec_9cde_0242ac1c0002row10_col10\" class=\"data row10 col10\" >1.00</td>\n",
              "                        <td id=\"T_cfd54360_7f44_11ec_9cde_0242ac1c0002row10_col11\" class=\"data row10 col11\" >0.94</td>\n",
              "                        <td id=\"T_cfd54360_7f44_11ec_9cde_0242ac1c0002row10_col12\" class=\"data row10 col12\" >-0.16</td>\n",
              "            </tr>\n",
              "            <tr>\n",
              "                        <th id=\"T_cfd54360_7f44_11ec_9cde_0242ac1c0002level0_row11\" class=\"row_heading level0 row11\" >quarter</th>\n",
              "                        <td id=\"T_cfd54360_7f44_11ec_9cde_0242ac1c0002row11_col0\" class=\"data row11 col0\" >0.80</td>\n",
              "                        <td id=\"T_cfd54360_7f44_11ec_9cde_0242ac1c0002row11_col1\" class=\"data row11 col1\" >0.05</td>\n",
              "                        <td id=\"T_cfd54360_7f44_11ec_9cde_0242ac1c0002row11_col2\" class=\"data row11 col2\" >-0.05</td>\n",
              "                        <td id=\"T_cfd54360_7f44_11ec_9cde_0242ac1c0002row11_col3\" class=\"data row11 col3\" >-0.06</td>\n",
              "                        <td id=\"T_cfd54360_7f44_11ec_9cde_0242ac1c0002row11_col4\" class=\"data row11 col4\" >-0.01</td>\n",
              "                        <td id=\"T_cfd54360_7f44_11ec_9cde_0242ac1c0002row11_col5\" class=\"data row11 col5\" >-0.02</td>\n",
              "                        <td id=\"T_cfd54360_7f44_11ec_9cde_0242ac1c0002row11_col6\" class=\"data row11 col6\" >-0.09</td>\n",
              "                        <td id=\"T_cfd54360_7f44_11ec_9cde_0242ac1c0002row11_col7\" class=\"data row11 col7\" >0.04</td>\n",
              "                        <td id=\"T_cfd54360_7f44_11ec_9cde_0242ac1c0002row11_col8\" class=\"data row11 col8\" >-0.06</td>\n",
              "                        <td id=\"T_cfd54360_7f44_11ec_9cde_0242ac1c0002row11_col9\" class=\"data row11 col9\" >-0.02</td>\n",
              "                        <td id=\"T_cfd54360_7f44_11ec_9cde_0242ac1c0002row11_col10\" class=\"data row11 col10\" >0.94</td>\n",
              "                        <td id=\"T_cfd54360_7f44_11ec_9cde_0242ac1c0002row11_col11\" class=\"data row11 col11\" >1.00</td>\n",
              "                        <td id=\"T_cfd54360_7f44_11ec_9cde_0242ac1c0002row11_col12\" class=\"data row11 col12\" >-0.17</td>\n",
              "            </tr>\n",
              "            <tr>\n",
              "                        <th id=\"T_cfd54360_7f44_11ec_9cde_0242ac1c0002level0_row12\" class=\"row_heading level0 row12\" >day</th>\n",
              "                        <td id=\"T_cfd54360_7f44_11ec_9cde_0242ac1c0002row12_col0\" class=\"data row12 col0\" >-0.03</td>\n",
              "                        <td id=\"T_cfd54360_7f44_11ec_9cde_0242ac1c0002row12_col1\" class=\"data row12 col1\" >-0.00</td>\n",
              "                        <td id=\"T_cfd54360_7f44_11ec_9cde_0242ac1c0002row12_col2\" class=\"data row12 col2\" >-0.00</td>\n",
              "                        <td id=\"T_cfd54360_7f44_11ec_9cde_0242ac1c0002row12_col3\" class=\"data row12 col3\" >-0.01</td>\n",
              "                        <td id=\"T_cfd54360_7f44_11ec_9cde_0242ac1c0002row12_col4\" class=\"data row12 col4\" >0.00</td>\n",
              "                        <td id=\"T_cfd54360_7f44_11ec_9cde_0242ac1c0002row12_col5\" class=\"data row12 col5\" >0.01</td>\n",
              "                        <td id=\"T_cfd54360_7f44_11ec_9cde_0242ac1c0002row12_col6\" class=\"data row12 col6\" >-0.01</td>\n",
              "                        <td id=\"T_cfd54360_7f44_11ec_9cde_0242ac1c0002row12_col7\" class=\"data row12 col7\" >0.00</td>\n",
              "                        <td id=\"T_cfd54360_7f44_11ec_9cde_0242ac1c0002row12_col8\" class=\"data row12 col8\" >-0.01</td>\n",
              "                        <td id=\"T_cfd54360_7f44_11ec_9cde_0242ac1c0002row12_col9\" class=\"data row12 col9\" >0.01</td>\n",
              "                        <td id=\"T_cfd54360_7f44_11ec_9cde_0242ac1c0002row12_col10\" class=\"data row12 col10\" >-0.16</td>\n",
              "                        <td id=\"T_cfd54360_7f44_11ec_9cde_0242ac1c0002row12_col11\" class=\"data row12 col11\" >-0.17</td>\n",
              "                        <td id=\"T_cfd54360_7f44_11ec_9cde_0242ac1c0002row12_col12\" class=\"data row12 col12\" >1.00</td>\n",
              "            </tr>\n",
              "    </tbody></table>"
            ],
            "text/plain": [
              "<pandas.io.formats.style.Styler at 0x7f2ffa520c50>"
            ]
          },
          "metadata": {},
          "execution_count": 10
        }
      ],
      "source": [
        "corr= df.corr()\n",
        "corr.style.background_gradient(cmap='coolwarm').set_precision(2)"
      ]
    },
    {
      "cell_type": "markdown",
      "source": [
        "## **Data Preprocessing**"
      ],
      "metadata": {
        "id": "MSEkU9lCZn81"
      }
    },
    {
      "cell_type": "code",
      "execution_count": 11,
      "metadata": {
        "id": "BsNfrbAEA77h",
        "colab": {
          "base_uri": "https://localhost:8080/"
        },
        "outputId": "47f26586-40f6-4d87-e094-74460382f738"
      },
      "outputs": [
        {
          "output_type": "stream",
          "name": "stdout",
          "text": [
            "        film_code  cinema_code  total_sales  ...  month  quarter  day\n",
            "0            1492          304      3900000  ...      5        2    5\n",
            "1            1492          352      3360000  ...      5        2    5\n",
            "2            1492          489      2560000  ...      5        2    5\n",
            "3            1492          429      1200000  ...      5        2    5\n",
            "4            1492          524      1200000  ...      5        2    5\n",
            "...           ...          ...          ...  ...    ...      ...  ...\n",
            "142519       1569          495      1320000  ...     11        4    4\n",
            "142520       1569          474      1200000  ...     11        4    4\n",
            "142521       1569          524      1060000  ...     11        4    4\n",
            "142522       1569          529       600000  ...     11        4    4\n",
            "142523       1569          486       250000  ...     11        4    4\n",
            "\n",
            "[142524 rows x 14 columns]\n",
            "        film_code  cinema_code  total_sales  ...  month  quarter  day\n",
            "0            1492          304      3900000  ...      5        2    5\n",
            "1            1492          352      3360000  ...      5        2    5\n",
            "2            1492          489      2560000  ...      5        2    5\n",
            "3            1492          429      1200000  ...      5        2    5\n",
            "4            1492          524      1200000  ...      5        2    5\n",
            "...           ...          ...          ...  ...    ...      ...  ...\n",
            "142519       1569          495      1320000  ...     11        4    4\n",
            "142520       1569          474      1200000  ...     11        4    4\n",
            "142521       1569          524      1060000  ...     11        4    4\n",
            "142522       1569          529       600000  ...     11        4    4\n",
            "142523       1569          486       250000  ...     11        4    4\n",
            "\n",
            "[142524 rows x 14 columns]\n"
          ]
        }
      ],
      "source": [
        "df= df.dropna(how='all')\n",
        "print(df)\n",
        "df= df.dropna(how='all', axis=1)\n",
        "print(df)"
      ]
    },
    {
      "cell_type": "code",
      "execution_count": 12,
      "metadata": {
        "id": "BPAVP_bUBqx4",
        "colab": {
          "base_uri": "https://localhost:8080/"
        },
        "outputId": "56d48013-0889-48b8-92d7-3d1df9ec3412"
      },
      "outputs": [
        {
          "output_type": "execute_result",
          "data": {
            "text/plain": [
              "film_code         0\n",
              "cinema_code       0\n",
              "total_sales       0\n",
              "tickets_sold      0\n",
              "tickets_out       0\n",
              "show_time         0\n",
              "occu_perc       125\n",
              "ticket_price      0\n",
              "ticket_use        0\n",
              "capacity        125\n",
              "date              0\n",
              "month             0\n",
              "quarter           0\n",
              "day               0\n",
              "dtype: int64"
            ]
          },
          "metadata": {},
          "execution_count": 12
        }
      ],
      "source": [
        "df.isnull().sum()"
      ]
    },
    {
      "cell_type": "code",
      "execution_count": 13,
      "metadata": {
        "id": "yNGmbWUSYZxl"
      },
      "outputs": [],
      "source": [
        "df.replace([np.inf, -np.inf], np.nan, inplace=True)"
      ]
    },
    {
      "cell_type": "code",
      "execution_count": 14,
      "metadata": {
        "id": "-oxabH6zYlOB"
      },
      "outputs": [],
      "source": [
        "df.fillna(999, inplace=True)"
      ]
    },
    {
      "cell_type": "code",
      "source": [
        "df = df.drop(['cinema_code','occu_perc','tickets_out','capacity','month','quarter','day'], axis=1)\n",
        "df.shape"
      ],
      "metadata": {
        "id": "lthLXr-Aga3t",
        "colab": {
          "base_uri": "https://localhost:8080/"
        },
        "outputId": "83eda259-c840-467b-d9ae-a517437273a0"
      },
      "execution_count": 15,
      "outputs": [
        {
          "output_type": "execute_result",
          "data": {
            "text/plain": [
              "(142524, 7)"
            ]
          },
          "metadata": {},
          "execution_count": 15
        }
      ]
    },
    {
      "cell_type": "code",
      "execution_count": 16,
      "metadata": {
        "id": "MzB_re1VBsgL",
        "colab": {
          "base_uri": "https://localhost:8080/",
          "height": 206
        },
        "outputId": "a65fe3f4-be45-4a68-bbb5-6639daa45e2d"
      },
      "outputs": [
        {
          "output_type": "execute_result",
          "data": {
            "text/html": [
              "\n",
              "  <div id=\"df-8e367259-1f03-413e-b876-9fd1299b0f8e\">\n",
              "    <div class=\"colab-df-container\">\n",
              "      <div>\n",
              "<style scoped>\n",
              "    .dataframe tbody tr th:only-of-type {\n",
              "        vertical-align: middle;\n",
              "    }\n",
              "\n",
              "    .dataframe tbody tr th {\n",
              "        vertical-align: top;\n",
              "    }\n",
              "\n",
              "    .dataframe thead th {\n",
              "        text-align: right;\n",
              "    }\n",
              "</style>\n",
              "<table border=\"1\" class=\"dataframe\">\n",
              "  <thead>\n",
              "    <tr style=\"text-align: right;\">\n",
              "      <th></th>\n",
              "      <th>film_code</th>\n",
              "      <th>total_sales</th>\n",
              "      <th>tickets_sold</th>\n",
              "      <th>show_time</th>\n",
              "      <th>ticket_price</th>\n",
              "      <th>ticket_use</th>\n",
              "      <th>date</th>\n",
              "    </tr>\n",
              "  </thead>\n",
              "  <tbody>\n",
              "    <tr>\n",
              "      <th>0</th>\n",
              "      <td>1492</td>\n",
              "      <td>3900000</td>\n",
              "      <td>26</td>\n",
              "      <td>4</td>\n",
              "      <td>150000.0</td>\n",
              "      <td>26</td>\n",
              "      <td>05-05-2018</td>\n",
              "    </tr>\n",
              "    <tr>\n",
              "      <th>1</th>\n",
              "      <td>1492</td>\n",
              "      <td>3360000</td>\n",
              "      <td>42</td>\n",
              "      <td>5</td>\n",
              "      <td>80000.0</td>\n",
              "      <td>42</td>\n",
              "      <td>05-05-2018</td>\n",
              "    </tr>\n",
              "    <tr>\n",
              "      <th>2</th>\n",
              "      <td>1492</td>\n",
              "      <td>2560000</td>\n",
              "      <td>32</td>\n",
              "      <td>4</td>\n",
              "      <td>80000.0</td>\n",
              "      <td>32</td>\n",
              "      <td>05-05-2018</td>\n",
              "    </tr>\n",
              "    <tr>\n",
              "      <th>3</th>\n",
              "      <td>1492</td>\n",
              "      <td>1200000</td>\n",
              "      <td>12</td>\n",
              "      <td>1</td>\n",
              "      <td>100000.0</td>\n",
              "      <td>12</td>\n",
              "      <td>05-05-2018</td>\n",
              "    </tr>\n",
              "    <tr>\n",
              "      <th>4</th>\n",
              "      <td>1492</td>\n",
              "      <td>1200000</td>\n",
              "      <td>15</td>\n",
              "      <td>3</td>\n",
              "      <td>80000.0</td>\n",
              "      <td>15</td>\n",
              "      <td>05-05-2018</td>\n",
              "    </tr>\n",
              "  </tbody>\n",
              "</table>\n",
              "</div>\n",
              "      <button class=\"colab-df-convert\" onclick=\"convertToInteractive('df-8e367259-1f03-413e-b876-9fd1299b0f8e')\"\n",
              "              title=\"Convert this dataframe to an interactive table.\"\n",
              "              style=\"display:none;\">\n",
              "        \n",
              "  <svg xmlns=\"http://www.w3.org/2000/svg\" height=\"24px\"viewBox=\"0 0 24 24\"\n",
              "       width=\"24px\">\n",
              "    <path d=\"M0 0h24v24H0V0z\" fill=\"none\"/>\n",
              "    <path d=\"M18.56 5.44l.94 2.06.94-2.06 2.06-.94-2.06-.94-.94-2.06-.94 2.06-2.06.94zm-11 1L8.5 8.5l.94-2.06 2.06-.94-2.06-.94L8.5 2.5l-.94 2.06-2.06.94zm10 10l.94 2.06.94-2.06 2.06-.94-2.06-.94-.94-2.06-.94 2.06-2.06.94z\"/><path d=\"M17.41 7.96l-1.37-1.37c-.4-.4-.92-.59-1.43-.59-.52 0-1.04.2-1.43.59L10.3 9.45l-7.72 7.72c-.78.78-.78 2.05 0 2.83L4 21.41c.39.39.9.59 1.41.59.51 0 1.02-.2 1.41-.59l7.78-7.78 2.81-2.81c.8-.78.8-2.07 0-2.86zM5.41 20L4 18.59l7.72-7.72 1.47 1.35L5.41 20z\"/>\n",
              "  </svg>\n",
              "      </button>\n",
              "      \n",
              "  <style>\n",
              "    .colab-df-container {\n",
              "      display:flex;\n",
              "      flex-wrap:wrap;\n",
              "      gap: 12px;\n",
              "    }\n",
              "\n",
              "    .colab-df-convert {\n",
              "      background-color: #E8F0FE;\n",
              "      border: none;\n",
              "      border-radius: 50%;\n",
              "      cursor: pointer;\n",
              "      display: none;\n",
              "      fill: #1967D2;\n",
              "      height: 32px;\n",
              "      padding: 0 0 0 0;\n",
              "      width: 32px;\n",
              "    }\n",
              "\n",
              "    .colab-df-convert:hover {\n",
              "      background-color: #E2EBFA;\n",
              "      box-shadow: 0px 1px 2px rgba(60, 64, 67, 0.3), 0px 1px 3px 1px rgba(60, 64, 67, 0.15);\n",
              "      fill: #174EA6;\n",
              "    }\n",
              "\n",
              "    [theme=dark] .colab-df-convert {\n",
              "      background-color: #3B4455;\n",
              "      fill: #D2E3FC;\n",
              "    }\n",
              "\n",
              "    [theme=dark] .colab-df-convert:hover {\n",
              "      background-color: #434B5C;\n",
              "      box-shadow: 0px 1px 3px 1px rgba(0, 0, 0, 0.15);\n",
              "      filter: drop-shadow(0px 1px 2px rgba(0, 0, 0, 0.3));\n",
              "      fill: #FFFFFF;\n",
              "    }\n",
              "  </style>\n",
              "\n",
              "      <script>\n",
              "        const buttonEl =\n",
              "          document.querySelector('#df-8e367259-1f03-413e-b876-9fd1299b0f8e button.colab-df-convert');\n",
              "        buttonEl.style.display =\n",
              "          google.colab.kernel.accessAllowed ? 'block' : 'none';\n",
              "\n",
              "        async function convertToInteractive(key) {\n",
              "          const element = document.querySelector('#df-8e367259-1f03-413e-b876-9fd1299b0f8e');\n",
              "          const dataTable =\n",
              "            await google.colab.kernel.invokeFunction('convertToInteractive',\n",
              "                                                     [key], {});\n",
              "          if (!dataTable) return;\n",
              "\n",
              "          const docLinkHtml = 'Like what you see? Visit the ' +\n",
              "            '<a target=\"_blank\" href=https://colab.research.google.com/notebooks/data_table.ipynb>data table notebook</a>'\n",
              "            + ' to learn more about interactive tables.';\n",
              "          element.innerHTML = '';\n",
              "          dataTable['output_type'] = 'display_data';\n",
              "          await google.colab.output.renderOutput(dataTable, element);\n",
              "          const docLink = document.createElement('div');\n",
              "          docLink.innerHTML = docLinkHtml;\n",
              "          element.appendChild(docLink);\n",
              "        }\n",
              "      </script>\n",
              "    </div>\n",
              "  </div>\n",
              "  "
            ],
            "text/plain": [
              "   film_code  total_sales  tickets_sold  ...  ticket_price  ticket_use        date\n",
              "0       1492      3900000            26  ...      150000.0          26  05-05-2018\n",
              "1       1492      3360000            42  ...       80000.0          42  05-05-2018\n",
              "2       1492      2560000            32  ...       80000.0          32  05-05-2018\n",
              "3       1492      1200000            12  ...      100000.0          12  05-05-2018\n",
              "4       1492      1200000            15  ...       80000.0          15  05-05-2018\n",
              "\n",
              "[5 rows x 7 columns]"
            ]
          },
          "metadata": {},
          "execution_count": 16
        }
      ],
      "source": [
        "df.head(5)"
      ]
    },
    {
      "cell_type": "markdown",
      "source": [
        "## **Define Target Variable (y) and Feature Variables (X)**"
      ],
      "metadata": {
        "id": "OKatSs_lZuti"
      }
    },
    {
      "cell_type": "code",
      "source": [
        "df['ticket_price'].astype(np.int64)\n",
        "df['ticket_price'] = df['ticket_price'].fillna(0).astype(np.int64)"
      ],
      "metadata": {
        "id": "IwvPYoGofGWX"
      },
      "execution_count": 17,
      "outputs": []
    },
    {
      "cell_type": "code",
      "execution_count": 18,
      "metadata": {
        "id": "5Qy3vlmeBzaw"
      },
      "outputs": [],
      "source": [
        "X = df[['total_sales','show_time','film_code','ticket_use','tickets_sold']]"
      ]
    },
    {
      "cell_type": "code",
      "execution_count": 19,
      "metadata": {
        "id": "r5l8Z1XEW3tG",
        "colab": {
          "base_uri": "https://localhost:8080/"
        },
        "outputId": "fd1bd13b-fbae-47b8-d2b9-9218d3096294"
      },
      "outputs": [
        {
          "output_type": "execute_result",
          "data": {
            "text/plain": [
              "(142524, 5)"
            ]
          },
          "metadata": {},
          "execution_count": 19
        }
      ],
      "source": [
        "X.shape"
      ]
    },
    {
      "cell_type": "code",
      "execution_count": 20,
      "metadata": {
        "id": "Yr290mqtXGRT",
        "colab": {
          "base_uri": "https://localhost:8080/"
        },
        "outputId": "e9aae4af-8698-453c-9254-d286e868e96b"
      },
      "outputs": [
        {
          "output_type": "execute_result",
          "data": {
            "text/plain": [
              "(142524,)"
            ]
          },
          "metadata": {},
          "execution_count": 20
        }
      ],
      "source": [
        "y = df['ticket_price']\n",
        "y.shape"
      ]
    },
    {
      "cell_type": "markdown",
      "source": [
        "## **Train Test Split**"
      ],
      "metadata": {
        "id": "XmgBZKfTaCD7"
      }
    },
    {
      "cell_type": "code",
      "execution_count": 21,
      "metadata": {
        "id": "QlTnhPfPXKL8"
      },
      "outputs": [],
      "source": [
        "from sklearn.model_selection import train_test_split"
      ]
    },
    {
      "cell_type": "code",
      "execution_count": 22,
      "metadata": {
        "id": "11QZfuf2XOB4",
        "colab": {
          "base_uri": "https://localhost:8080/"
        },
        "outputId": "797a1807-f937-46b4-b7e0-63e36dc9cd33"
      },
      "outputs": [
        {
          "output_type": "execute_result",
          "data": {
            "text/plain": [
              "((42757, 5), (99767, 5), (42757,), (99767,))"
            ]
          },
          "metadata": {},
          "execution_count": 22
        }
      ],
      "source": [
        "X_train, X_test, y_train, y_test = train_test_split(X, y, test_size = 0.7)\n",
        "X_train\n",
        "X_train.shape, X_test.shape, y_train.shape, y_test.shape"
      ]
    },
    {
      "cell_type": "markdown",
      "source": [
        "## **Modeling**"
      ],
      "metadata": {
        "id": "2j45CjUVaLdA"
      }
    },
    {
      "cell_type": "code",
      "source": [
        "pip install transformers"
      ],
      "metadata": {
        "id": "PBdxhK3VUGyz",
        "colab": {
          "base_uri": "https://localhost:8080/"
        },
        "outputId": "94938d49-6d41-42b1-f62b-44fef88d49fd"
      },
      "execution_count": 23,
      "outputs": [
        {
          "output_type": "stream",
          "name": "stdout",
          "text": [
            "Requirement already satisfied: transformers in /usr/local/lib/python3.7/dist-packages (4.15.0)\n",
            "Requirement already satisfied: huggingface-hub<1.0,>=0.1.0 in /usr/local/lib/python3.7/dist-packages (from transformers) (0.4.0)\n",
            "Requirement already satisfied: packaging>=20.0 in /usr/local/lib/python3.7/dist-packages (from transformers) (21.3)\n",
            "Requirement already satisfied: tokenizers<0.11,>=0.10.1 in /usr/local/lib/python3.7/dist-packages (from transformers) (0.10.3)\n",
            "Requirement already satisfied: importlib-metadata in /usr/local/lib/python3.7/dist-packages (from transformers) (4.10.1)\n",
            "Requirement already satisfied: requests in /usr/local/lib/python3.7/dist-packages (from transformers) (2.23.0)\n",
            "Requirement already satisfied: sacremoses in /usr/local/lib/python3.7/dist-packages (from transformers) (0.0.47)\n",
            "Requirement already satisfied: tqdm>=4.27 in /usr/local/lib/python3.7/dist-packages (from transformers) (4.62.3)\n",
            "Requirement already satisfied: filelock in /usr/local/lib/python3.7/dist-packages (from transformers) (3.4.2)\n",
            "Requirement already satisfied: numpy>=1.17 in /usr/local/lib/python3.7/dist-packages (from transformers) (1.19.5)\n",
            "Requirement already satisfied: regex!=2019.12.17 in /usr/local/lib/python3.7/dist-packages (from transformers) (2019.12.20)\n",
            "Requirement already satisfied: pyyaml>=5.1 in /usr/local/lib/python3.7/dist-packages (from transformers) (6.0)\n",
            "Requirement already satisfied: typing-extensions>=3.7.4.3 in /usr/local/lib/python3.7/dist-packages (from huggingface-hub<1.0,>=0.1.0->transformers) (3.10.0.2)\n",
            "Requirement already satisfied: pyparsing!=3.0.5,>=2.0.2 in /usr/local/lib/python3.7/dist-packages (from packaging>=20.0->transformers) (3.0.7)\n",
            "Requirement already satisfied: zipp>=0.5 in /usr/local/lib/python3.7/dist-packages (from importlib-metadata->transformers) (3.7.0)\n",
            "Requirement already satisfied: chardet<4,>=3.0.2 in /usr/local/lib/python3.7/dist-packages (from requests->transformers) (3.0.4)\n",
            "Requirement already satisfied: certifi>=2017.4.17 in /usr/local/lib/python3.7/dist-packages (from requests->transformers) (2021.10.8)\n",
            "Requirement already satisfied: idna<3,>=2.5 in /usr/local/lib/python3.7/dist-packages (from requests->transformers) (2.10)\n",
            "Requirement already satisfied: urllib3!=1.25.0,!=1.25.1,<1.26,>=1.21.1 in /usr/local/lib/python3.7/dist-packages (from requests->transformers) (1.24.3)\n",
            "Requirement already satisfied: joblib in /usr/local/lib/python3.7/dist-packages (from sacremoses->transformers) (1.1.0)\n",
            "Requirement already satisfied: click in /usr/local/lib/python3.7/dist-packages (from sacremoses->transformers) (7.1.2)\n",
            "Requirement already satisfied: six in /usr/local/lib/python3.7/dist-packages (from sacremoses->transformers) (1.15.0)\n"
          ]
        }
      ]
    },
    {
      "cell_type": "code",
      "execution_count": 24,
      "metadata": {
        "id": "mDErSbzYXVWm"
      },
      "outputs": [],
      "source": [
        "from sklearn.linear_model import LogisticRegression\n",
        "from sklearn.metrics import accuracy_score, confusion_matrix, classification_report\n",
        "from sklearn.pipeline import make_pipeline\n",
        "from transformers import pipeline\n",
        "from sklearn.preprocessing import StandardScaler\n",
        "from sklearn.datasets import make_classification"
      ]
    },
    {
      "cell_type": "markdown",
      "source": [
        "## **Model Evaluation**"
      ],
      "metadata": {
        "id": "bB8G962eaj1N"
      }
    },
    {
      "cell_type": "code",
      "source": [
        "X, y = make_classification(random_state=42)\n",
        "X_train, X_test, y_train, y_test = train_test_split(X, y, random_state=252)\n",
        "pipe = make_pipeline(StandardScaler(), LogisticRegression())\n",
        "model=pipe.fit(X_train, y_train)\n",
        "\n",
        "pipe.score(X_test, y_test) "
      ],
      "metadata": {
        "id": "F7i3LV33cRmZ",
        "colab": {
          "base_uri": "https://localhost:8080/"
        },
        "outputId": "b67c3f54-7731-482e-c7c6-b619682a135e"
      },
      "execution_count": 25,
      "outputs": [
        {
          "output_type": "execute_result",
          "data": {
            "text/plain": [
              "0.96"
            ]
          },
          "metadata": {},
          "execution_count": 25
        }
      ]
    },
    {
      "cell_type": "markdown",
      "source": [
        "## **Prediction**"
      ],
      "metadata": {
        "id": "T1ZygZNwar2d"
      }
    },
    {
      "cell_type": "code",
      "source": [
        "prediction = model.predict(X_test)"
      ],
      "metadata": {
        "id": "js6Y_v9zk1i6"
      },
      "execution_count": 26,
      "outputs": []
    },
    {
      "cell_type": "code",
      "execution_count": 27,
      "metadata": {
        "id": "W45JygOqj8JC",
        "colab": {
          "base_uri": "https://localhost:8080/"
        },
        "outputId": "75fac9bc-fd6b-4ee8-f9ae-eb4e80251693"
      },
      "outputs": [
        {
          "output_type": "stream",
          "name": "stdout",
          "text": [
            "accuracy score: 96.0%\n"
          ]
        }
      ],
      "source": [
        "print(\"accuracy score: {}%\".format(round(accuracy_score(y_test, prediction)*100,2)))"
      ]
    },
    {
      "cell_type": "code",
      "source": [
        "print(confusion_matrix(y_test, prediction))\n",
        "print(classification_report(y_test, prediction))"
      ],
      "metadata": {
        "id": "WLcg5ZfJh0xz",
        "colab": {
          "base_uri": "https://localhost:8080/"
        },
        "outputId": "883b1236-f5f2-43ba-c4ce-dc241458d1de"
      },
      "execution_count": 28,
      "outputs": [
        {
          "output_type": "stream",
          "name": "stdout",
          "text": [
            "[[12  0]\n",
            " [ 1 12]]\n",
            "              precision    recall  f1-score   support\n",
            "\n",
            "           0       0.92      1.00      0.96        12\n",
            "           1       1.00      0.92      0.96        13\n",
            "\n",
            "    accuracy                           0.96        25\n",
            "   macro avg       0.96      0.96      0.96        25\n",
            "weighted avg       0.96      0.96      0.96        25\n",
            "\n"
          ]
        }
      ]
    },
    {
      "cell_type": "code",
      "source": [
        "from sklearn.metrics import mean_absolute_error\n",
        "mean_absolute_error(y_test, prediction)"
      ],
      "metadata": {
        "id": "D53F8fjglpEP",
        "colab": {
          "base_uri": "https://localhost:8080/"
        },
        "outputId": "e16f0016-3bea-4700-abcc-83be131c2850"
      },
      "execution_count": 29,
      "outputs": [
        {
          "output_type": "execute_result",
          "data": {
            "text/plain": [
              "0.04"
            ]
          },
          "metadata": {},
          "execution_count": 29
        }
      ]
    },
    {
      "cell_type": "code",
      "source": [
        "prediction"
      ],
      "metadata": {
        "id": "jiSr6paR5yyc",
        "colab": {
          "base_uri": "https://localhost:8080/"
        },
        "outputId": "1a968687-cf88-4a9e-b1c7-288489a13bc3"
      },
      "execution_count": 30,
      "outputs": [
        {
          "output_type": "execute_result",
          "data": {
            "text/plain": [
              "array([0, 0, 1, 0, 1, 0, 0, 0, 1, 1, 0, 0, 1, 1, 0, 1, 1, 0, 0, 1, 1, 1,\n",
              "       0, 1, 0])"
            ]
          },
          "metadata": {},
          "execution_count": 30
        }
      ]
    },
    {
      "cell_type": "markdown",
      "metadata": {
        "id": "b1py7BxqAWfl"
      },
      "source": [
        "## **Explaination**"
      ]
    },
    {
      "cell_type": "markdown",
      "source": [
        "When we imported the dataset and visualise it using correlation, we found that there are certain columns who have weak correlation with our variable so we drop them.\n",
        "As our var has float values we need to convert it into int before defining our target variable y. Then we splitted our dataset into train and test subsets.\n",
        "I used Logistic Regression and created my model using pipeline to compute the mean and standard deviation on a training set so as to be able to later re-apply the same transformation on the testing set. As our model was reaching the max iteration before fiting the model.\n",
        "We found that the model has an accuracy of 96 %"
      ],
      "metadata": {
        "id": "a8StV_KA5Cgx"
      }
    }
  ],
  "metadata": {
    "colab": {
      "name": "movie_ticket.ipynb",
      "provenance": [],
      "collapsed_sections": []
    },
    "kernelspec": {
      "display_name": "Python 3",
      "name": "python3"
    },
    "language_info": {
      "name": "python"
    }
  },
  "nbformat": 4,
  "nbformat_minor": 0
}